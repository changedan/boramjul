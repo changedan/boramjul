{
 "cells": [
  {
   "cell_type": "markdown",
   "id": "f611b35a",
   "metadata": {},
   "source": [
    "## 다운로드"
   ]
  },
  {
   "cell_type": "code",
   "execution_count": null,
   "id": "371cc88e",
   "metadata": {},
   "outputs": [],
   "source": [
    "# flask 다운로드\n",
    "!pip install flask\n",
    "# flask cors 다운로드\n",
    "!pip install flask_cors"
   ]
  },
  {
   "cell_type": "markdown",
   "id": "25d1f3e7",
   "metadata": {},
   "source": [
    "## import"
   ]
  },
  {
   "cell_type": "code",
   "execution_count": 1,
   "id": "51d373d8",
   "metadata": {},
   "outputs": [],
   "source": [
    "import os\n",
    "import sys\n",
    "import urllib.request\n",
    "import json\n",
    "import pandas as pd\n",
    "## <!-- Flask import -->\n",
    "from flask import Flask, redirect, request\n",
    "from flask_cors import CORS, cross_origin\n",
    "## <!-- API key -->\n",
    "client_id = \"3wU5xwXfFVL4LweQzLHQ\"\n",
    "client_secret = \"K60NkftSAH\""
   ]
  },
  {
   "cell_type": "markdown",
   "id": "0a4c7a7d",
   "metadata": {},
   "source": [
    "# Flask"
   ]
  },
  {
   "cell_type": "code",
   "execution_count": null,
   "id": "ca4f553f",
   "metadata": {
    "scrolled": false
   },
   "outputs": [
    {
     "name": "stdout",
     "output_type": "stream",
     "text": [
      " * Serving Flask app \"__main__\" (lazy loading)\n",
      " * Environment: production\n",
      "   WARNING: This is a development server. Do not use it in a production deployment.\n",
      "   Use a production WSGI server instead.\n",
      " * Debug mode: off\n"
     ]
    },
    {
     "name": "stderr",
     "output_type": "stream",
     "text": [
      " * Running on http://172.30.1.51:5021/ (Press CTRL+C to quit)\n"
     ]
    }
   ],
   "source": [
    "app = Flask(__name__) # flask 서버객체 생성\n",
    "\n",
    "CORS(app, resources={r'*': {'origins': '*'}})\n",
    "# CORS(app, resources={r'*': {'origins': 'https://webisfree.com'}})\n",
    "# CORS(app, resources={r'/_api/*': {'origins': 'https://webisfree.com:5000'}})\n",
    "\n",
    "def crawling(title, author):\n",
    "    result = ''\n",
    "    ## <!-- 검색어 -->\n",
    "    data1 = urllib.parse.quote(title) \n",
    "    data2 = urllib.parse.quote(author)\n",
    "    \n",
    "    booktitle_search = urllib.parse.quote(data1) ## 책 제목 검색어\n",
    "    author_search = urllib.parse.quote(data2) ## 책 저자 검색어\n",
    "\n",
    "    ## <!-- 블로그 start -->\n",
    "    ## url1 == 블로그\n",
    "    url1 = \"https://openapi.naver.com/v1/search/blog?query=\" + data1 + \"+\" + data2 + \"&display=3\" # json 결과\n",
    "    request = urllib.request.Request(url1)\n",
    "    request.add_header(\"X-Naver-Client-Id\",client_id)\n",
    "    request.add_header(\"X-Naver-Client-Secret\",client_secret)\n",
    "    response = urllib.request.urlopen(request)\n",
    "    rescode = response.getcode()\n",
    "    \n",
    "    if(rescode==200):\n",
    "        response_body = response.read()\n",
    "        #print(response_body.decode('utf-8')) ## 인코딩\n",
    "        text = response_body.decode('utf-8') ## 인코딩\n",
    "        dict = json.loads(text.strip()) ## text 변환\n",
    "        blog_search = [] ## 블로그 검색\n",
    "        blog_t = dict['items']\n",
    "        for i in blog_t:\n",
    "            blog_search.append({'title': i['title'], 'link': i['link']})\n",
    "        blog_result = blog_search\n",
    "    else:\n",
    "        result += \"Error Code:\"\n",
    "        blog_result += rescode\n",
    "    return blog_result\n",
    "    ## <!-- 블로그 end -->\n",
    "\n",
    "    ## <!-- 뉴스 start -->\n",
    "    ## url2 == 뉴스 \n",
    "    url2 = \"https://openapi.naver.com/v1/search/news?query=\" + encText + \"&display=3\" # json 결과\n",
    "    request = urllib.request.Request(url2)\n",
    "    request.add_header(\"X-Naver-Client-Id\",client_id)\n",
    "    request.add_header(\"X-Naver-Client-Secret\",client_secret)\n",
    "    response = urllib.request.urlopen(request)\n",
    "    rescode = response.getcode()\n",
    "\n",
    "    if(rescode==200):\n",
    "        response_body = response.read()\n",
    "        #print(response_body.decode('utf-8'))\n",
    "        text1 =response_body.decode('utf-8')\n",
    "        dict = json.loads(text1.strip()) ## text 변환\n",
    "        news_search = [] ## 뉴스 검색\n",
    "        news_t = dict['items']\n",
    "        for i in news_t:\n",
    "            news_search.append({'title': i['title'], 'link': i['link']})\n",
    "        news_result = news_search\n",
    "    else:\n",
    "        result += \"Error Code:\"\n",
    "        news_result += rescode\n",
    "    return news_result\n",
    "    ## <!-- 뉴스 end -->\n",
    "    \n",
    "@app.route('/', methods=['GET','POST']) # route(경로): 외부에서 접근할 때 페이지 구분을 위한 경로지정\n",
    "def index():\n",
    "    title = request.args['title']\n",
    "    author = request.args['author']\n",
    "#     cover = request.args['cover']\n",
    "#     title = '불편한 편의점'\n",
    "#     author = '김호연'\n",
    "    print(crawling(title, author))\n",
    "#     url = 'http://172.30.1.51:8006/BoRamJul/bookinfo.jsp?'\n",
    "#     url += 'title='\n",
    "#     url += title\n",
    "#     url += '&author='\n",
    "#     url += author\n",
    "#     url += '&cover='\n",
    "#     url += cover\n",
    "#     url += '&test='\n",
    "#     url += 'asdasd'   \n",
    "    \n",
    "    return json.dumps(crawling(title, author))\n",
    "    \n",
    "if __name__ == '__main__':\n",
    "    # 웹서버주소(host)와 포트번호(port)를 지정하여 웹 서버 실행\n",
    "    app.run(host='172.30.1.51', port=5021) ## [???] 주소 확인 필요    "
   ]
  },
  {
   "cell_type": "code",
   "execution_count": null,
   "id": "069482af",
   "metadata": {},
   "outputs": [],
   "source": [
    "print(news_result)"
   ]
  },
  {
   "cell_type": "code",
   "execution_count": null,
   "id": "a3dd5de3",
   "metadata": {},
   "outputs": [],
   "source": [
    "blog_list = crawling('불편한 편의점(15만부 기념 윈터 에디션)', '김호연')\n",
    "\n",
    "blog_info = [\n",
    "    {'title': blog_list['items'][0]['title'], 'link': blog_list['items'][0]['link']},\n",
    "    {'title': blog_list['items'][1]['title'], 'link': blog_list['items'][1]['link']},\n",
    "    {'title': blog_list['items'][2]['title'], 'link': blog_list['items'][2]['link']},\n",
    "]\n",
    "\n",
    "json.dumps(blog_info)"
   ]
  }
 ],
 "metadata": {
  "kernelspec": {
   "display_name": "Python 3",
   "language": "python",
   "name": "python3"
  },
  "language_info": {
   "codemirror_mode": {
    "name": "ipython",
    "version": 3
   },
   "file_extension": ".py",
   "mimetype": "text/x-python",
   "name": "python",
   "nbconvert_exporter": "python",
   "pygments_lexer": "ipython3",
   "version": "3.8.8"
  }
 },
 "nbformat": 4,
 "nbformat_minor": 5
}
