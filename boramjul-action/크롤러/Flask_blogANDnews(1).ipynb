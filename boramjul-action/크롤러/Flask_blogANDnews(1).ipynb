{
 "cells": [
  {
   "cell_type": "code",
   "execution_count": 1,
   "id": "51d373d8",
   "metadata": {},
   "outputs": [],
   "source": [
    "import os\n",
    "import sys\n",
    "import urllib.request\n",
    "client_id = \"3wU5xwXfFVL4LweQzLHQ\"\n",
    "client_secret = \"K60NkftSAH\""
   ]
  },
  {
   "cell_type": "code",
   "execution_count": 2,
   "id": "9bf96d64",
   "metadata": {},
   "outputs": [
    {
     "name": "stdout",
     "output_type": "stream",
     "text": [
      "Requirement already satisfied: flask in c:\\users\\smhrd\\anaconda3\\lib\\site-packages (1.1.2)\n",
      "Requirement already satisfied: Werkzeug>=0.15 in c:\\users\\smhrd\\anaconda3\\lib\\site-packages (from flask) (1.0.1)\n",
      "Requirement already satisfied: Jinja2>=2.10.1 in c:\\users\\smhrd\\anaconda3\\lib\\site-packages (from flask) (2.11.3)\n",
      "Requirement already satisfied: itsdangerous>=0.24 in c:\\users\\smhrd\\anaconda3\\lib\\site-packages (from flask) (1.1.0)\n",
      "Requirement already satisfied: click>=5.1 in c:\\users\\smhrd\\anaconda3\\lib\\site-packages (from flask) (7.1.2)\n",
      "Requirement already satisfied: MarkupSafe>=0.23 in c:\\users\\smhrd\\anaconda3\\lib\\site-packages (from Jinja2>=2.10.1->flask) (1.1.1)\n"
     ]
    }
   ],
   "source": [
    "# flask\n",
    "!pip install flask"
   ]
  },
  {
   "cell_type": "code",
   "execution_count": 22,
   "id": "66cc454f",
   "metadata": {},
   "outputs": [
    {
     "name": "stdout",
     "output_type": "stream",
     "text": [
      "{\n",
      "\"lastBuildDate\": \"Thu, 30 Dec 2021 09:54:11 +0900\",\n",
      "\"total\": 27232,\n",
      "\"start\": 1,\n",
      "\"display\": 3,\n",
      "\"items\": [\n",
      "{\n",
      "\"title\": \"서평 :: <b>칼의 노래</b> - 김훈\",\n",
      "\"link\": \"https:\\/\\/blog.naver.com\\/cyberkimsol?Redirect=Log&logNo=222252548807\",\n",
      "\"description\": \"서평 :: <b>칼의노래</b> - 김훈 <b>칼의 노래</b> 저자 김훈 출판 생각의나무 발매 2001.10.22. 저희 회사 책꽂이에 있어 읽기 시작한 책. <b>칼의 노래</b>는 예전 느낌표에서 노무현 전 대통령님이 나와서 '<b>칼의 노래</b>'를 추천해서 정말... \",\n",
      "\"bloggername\": \"솔세무사 웰니스블로그 ·ᴗ·\",\n",
      "\"bloggerlink\": \"https://blog.naver.com/cyberkimsol\",\n",
      "\"postdate\": \"20210222\"\n",
      "\n",
      "},\n",
      "{\n",
      "\"title\": \"330권 -『<b>칼의 노래</b>』\",\n",
      "\"link\": \"https:\\/\\/blog.naver.com\\/skylight_blu?Redirect=Log&logNo=222512327016\",\n",
      "\"description\": \"<b>칼의 노래</b> 저자 김훈 출판 문학동네 발매 2012.01.05. 도요토미 히데요시는 일본 열도에서 백여 년간... 『<b>칼의 노래</b>』는 충무공이 백의종군을 마치고 궤멸당한 수군이 기다리는 전장으로 다시 내던져지며 시작한다.... \",\n",
      "\"bloggername\": \"초보 한의사 시기의 블로그\",\n",
      "\"bloggerlink\": \"https://blog.naver.com/skylight_blu\",\n",
      "\"postdate\": \"20210921\"\n",
      "\n",
      "},\n",
      "{\n",
      "\"title\": \"소장閣 8. <b>칼의 노래</b>\",\n",
      "\"link\": \"https:\\/\\/blog.naver.com\\/extroschool?Redirect=Log&logNo=222578223154\",\n",
      "\"description\": \"<b>칼의 노래</b> 저자 김훈 출판 문학동네 발매 2012.01.05. 처음 이 책을 읽었을 때 느낀 그 충격을 잊을 수가... <b>칼의 노래</b> 작품 속에서 여진을 그리는 방식을 , 특히 그 부분을 불편해 하는 사람들도 많지만, 나는 가장... \",\n",
      "\"bloggername\": \"라이크어메르헨\",\n",
      "\"bloggerlink\": \"https://blog.naver.com/extroschool\",\n",
      "\"postdate\": \"20211209\"\n",
      "\n",
      "}\n",
      "]\n",
      "}\n",
      "\n",
      "{\n",
      "\"lastBuildDate\": \"Thu, 30 Dec 2021 09:54:11 +0900\",\n",
      "\"total\": 48428,\n",
      "\"start\": 1,\n",
      "\"display\": 3,\n",
      "\"items\": [\n",
      "{\n",
      "\"title\": \"김은희 전통춤꾼의 '나의 스승, 나의 춤'…전승·복원·창작의 춤 인생\",\n",
      "\"originallink\": \"http://www.g-enews.com/ko-kr/news/article/news_all/202112300808225702e8b8a793f7_1/article.html\",\n",
      "\"link\": \"http://www.g-enews.com/ko-kr/news/article/news_all/202112300808225702e8b8a793f7_1/article.html\",\n",
      "\"description\": \"마음이 고와야 <b>노래</b>가 곱다. 마음이 고와야 춤이 곱다.’ … 선생님 보고싶어요.” 선생과의 인연을 이야기 한다. 구음이 들어서고 김은희는 슬픈 정한의 감정을 실어 고수적 &lt;살풀이춤&gt;을 춘다. 이어 배경막의 풍속화의... \",\n",
      "\"pubDate\": \"Thu, 30 Dec 2021 08:48:00 +0900\"\n",
      "\n",
      "},\n",
      "{\n",
      "\"title\": \"내 인생의 마당극을 만나다 2\",\n",
      "\"originallink\": \"https://www.pressian.com/pages/articles/2021121516370292454?utm_source=naver&utm_medium=search\",\n",
      "\"link\": \"https://news.naver.com/main/read.naver?mode=LSD&mid=sec&sid1=110&oid=002&aid=0002225396\",\n",
      "\"description\": \"마승락의 탈춤 10 이미 칼<b>노래</b> 칼춤에서도 채희완 선생의 연출과 최태현 선생의 음악, 이석금 선생의 탈이... 쓰였던 <b>노래</b>를 지금도 틈만 나면 흥얼거리며 그 여운을 되새기고 있기 때문이다. 신새벽은 ‘섬세하고 깊이 있는... \",\n",
      "\"pubDate\": \"Thu, 30 Dec 2021 07:52:00 +0900\"\n",
      "\n",
      "},\n",
      "{\n",
      "\"title\": \"2022년 솟는 해를 직접 보기는 어려워졌지만…\",\n",
      "\"originallink\": \"http://www.kbmaeil.com/news/articleView.html?idxno=917780\",\n",
      "\"link\": \"http://www.kbmaeil.com/news/articleView.html?idxno=917780\",\n",
      "\"description\": \"시인 고은(88)은 2016년 출간된 시집 '초혼'에서 이렇게 <b>노래</b>한다. '하루'라는 제목의 시다. 떨어지고 싶다 그래서 떨어졌다 길 위에 누워 있는 잎새 몇 개 어디로 가고 싶다 바람이 와서 길 위의 잎새들 저만치 더 저만치... \",\n",
      "\"pubDate\": \"Wed, 29 Dec 2021 20:50:00 +0900\"\n",
      "\n",
      "}\n",
      "]\n",
      "}\n",
      "\n"
     ]
    }
   ],
   "source": [
    "encText = urllib.parse.quote(\"칼의노래\")\n",
    "\n",
    "# url1 = \"https://openapi.naver.com/v1/search/blog.xml?query=\" + encText # xml 결과\n",
    "url1 = \"https://openapi.naver.com/v1/search/blog?query=\" + encText + \"&display=3\" # json 결과\n",
    "\n",
    "## url1\n",
    "request = urllib.request.Request(url1)\n",
    "request.add_header(\"X-Naver-Client-Id\",client_id)\n",
    "request.add_header(\"X-Naver-Client-Secret\",client_secret)\n",
    "response = urllib.request.urlopen(request)\n",
    "rescode = response.getcode()\n",
    "\n",
    "blog={}\n",
    "\n",
    "if(rescode==200):\n",
    "    response_body = response.read()\n",
    "    print(response_body.decode('utf-8'))\n",
    "    blog=response_body.decode('utf-8')\n",
    "\n",
    "else:\n",
    "    print(\"Error Code:\" + rescode)\n",
    "\n",
    "url2 = \"https://openapi.naver.com/v1/search/news?query=\" + encText + \"&display=3\" # json 결과\n",
    "\n",
    "## url2\n",
    "request = urllib.request.Request(url2)\n",
    "request.add_header(\"X-Naver-Client-Id\",client_id)\n",
    "request.add_header(\"X-Naver-Client-Secret\",client_secret)\n",
    "response = urllib.request.urlopen(request)\n",
    "rescode = response.getcode()\n",
    "\n",
    "news={}\n",
    "\n",
    "if(rescode==200):\n",
    "    response_body = response.read()\n",
    "    print(response_body.decode('utf-8'))\n",
    "    news=response_body.decode('utf-8')\n",
    "\n",
    "else:\n",
    "    print(\"Error Code:\" + rescode)"
   ]
  },
  {
   "cell_type": "code",
   "execution_count": 16,
   "id": "73653b91",
   "metadata": {},
   "outputs": [
    {
     "data": {
      "text/plain": [
       "str"
      ]
     },
     "execution_count": 16,
     "metadata": {},
     "output_type": "execute_result"
    }
   ],
   "source": [
    "type(news)"
   ]
  },
  {
   "cell_type": "markdown",
   "id": "c3f6f241",
   "metadata": {},
   "source": [
    "# 불필요한 문자&태그 삭제 "
   ]
  },
  {
   "cell_type": "code",
   "execution_count": 17,
   "id": "4413476c",
   "metadata": {},
   "outputs": [],
   "source": [
    "blog=blog.replace(\"\\n\",\"\")\n",
    "blog=blog.replace(\"\\\\\",\"\")\n",
    "blog=blog.replace(\"</b>\",\"\")\n",
    "blog=blog.replace(\"<b>\",\"\")\n",
    "blog=blog.replace(\"&lt;\",\"\")\n",
    "blog=blog.replace(\"&gt;\",\"\")\n",
    "blog=blog.replace(\"&quot;\",\"\")\n",
    "blog=blog.replace(\"?Redirect=Log&logNo=\",\"/\")\n",
    "news=news.replace(\"</b>\",\"\")\n",
    "news=news.replace(\"<b>\",\"\")\n",
    "news=news.replace(\"&lt;\",\"\")\n",
    "news=news.replace(\"&gt;\",\"\")\n",
    "news=news.replace(\"&quot;\",\"\")\n",
    "news=news.replace(\"\\xa0\",\"\")"
   ]
  },
  {
   "cell_type": "markdown",
   "id": "d8f0b096",
   "metadata": {},
   "source": [
    "# 블로그정보 데이터프레임"
   ]
  },
  {
   "cell_type": "code",
   "execution_count": 18,
   "id": "eb6fc433",
   "metadata": {},
   "outputs": [],
   "source": [
    "import json\n",
    "from bs4 import BeautifulSoup as bs\n",
    "import pandas as pd\n",
    "from urllib.request import urlretrieve"
   ]
  },
  {
   "cell_type": "code",
   "execution_count": 19,
   "id": "f07afc77",
   "metadata": {},
   "outputs": [],
   "source": [
    "blog_list=json.loads(blog)\n",
    "news_list=json.loads(news)"
   ]
  },
  {
   "cell_type": "code",
   "execution_count": 20,
   "id": "362a3a87",
   "metadata": {},
   "outputs": [],
   "source": [
    "blog_table=pd.DataFrame(blog_list['items'],columns=['title','link','bloggername','bloggerlink','description'])\n",
    "news_table=pd.DataFrame(news_list['items'],columns=['title','originallink','description'])"
   ]
  },
  {
   "cell_type": "code",
   "execution_count": 21,
   "id": "c14e975a",
   "metadata": {
    "scrolled": true
   },
   "outputs": [
    {
     "data": {
      "text/html": [
       "<div>\n",
       "<style scoped>\n",
       "    .dataframe tbody tr th:only-of-type {\n",
       "        vertical-align: middle;\n",
       "    }\n",
       "\n",
       "    .dataframe tbody tr th {\n",
       "        vertical-align: top;\n",
       "    }\n",
       "\n",
       "    .dataframe thead th {\n",
       "        text-align: right;\n",
       "    }\n",
       "</style>\n",
       "<table border=\"1\" class=\"dataframe\">\n",
       "  <thead>\n",
       "    <tr style=\"text-align: right;\">\n",
       "      <th></th>\n",
       "      <th>title</th>\n",
       "      <th>originallink</th>\n",
       "      <th>description</th>\n",
       "    </tr>\n",
       "  </thead>\n",
       "  <tbody>\n",
       "    <tr>\n",
       "      <th>0</th>\n",
       "      <td>김은희 전통춤꾼의 '나의 스승, 나의 춤'…전승·복원·창작의 춤 인생</td>\n",
       "      <td>http://www.g-enews.com/ko-kr/news/article/news...</td>\n",
       "      <td>마음이 고와야 노래가 곱다. 마음이 고와야 춤이 곱다.’ … 선생님 보고싶어요.” ...</td>\n",
       "    </tr>\n",
       "    <tr>\n",
       "      <th>1</th>\n",
       "      <td>내 인생의 마당극을 만나다 2</td>\n",
       "      <td>https://www.pressian.com/pages/articles/202112...</td>\n",
       "      <td>마승락의 탈춤 10 이미 칼노래 칼춤에서도 채희완 선생의 연출과 최태현 선생의 음악...</td>\n",
       "    </tr>\n",
       "    <tr>\n",
       "      <th>2</th>\n",
       "      <td>2022년 솟는 해를 직접 보기는 어려워졌지만…</td>\n",
       "      <td>http://www.kbmaeil.com/news/articleView.html?i...</td>\n",
       "      <td>시인 고은(88)은 2016년 출간된 시집 '초혼'에서 이렇게 노래한다. '하루'라...</td>\n",
       "    </tr>\n",
       "  </tbody>\n",
       "</table>\n",
       "</div>"
      ],
      "text/plain": [
       "                                    title  \\\n",
       "0  김은희 전통춤꾼의 '나의 스승, 나의 춤'…전승·복원·창작의 춤 인생   \n",
       "1                        내 인생의 마당극을 만나다 2   \n",
       "2              2022년 솟는 해를 직접 보기는 어려워졌지만…   \n",
       "\n",
       "                                        originallink  \\\n",
       "0  http://www.g-enews.com/ko-kr/news/article/news...   \n",
       "1  https://www.pressian.com/pages/articles/202112...   \n",
       "2  http://www.kbmaeil.com/news/articleView.html?i...   \n",
       "\n",
       "                                         description  \n",
       "0  마음이 고와야 노래가 곱다. 마음이 고와야 춤이 곱다.’ … 선생님 보고싶어요.” ...  \n",
       "1  마승락의 탈춤 10 이미 칼노래 칼춤에서도 채희완 선생의 연출과 최태현 선생의 음악...  \n",
       "2  시인 고은(88)은 2016년 출간된 시집 '초혼'에서 이렇게 노래한다. '하루'라...  "
      ]
     },
     "execution_count": 21,
     "metadata": {},
     "output_type": "execute_result"
    }
   ],
   "source": [
    "blog_table\n",
    "news_table"
   ]
  },
  {
   "cell_type": "code",
   "execution_count": null,
   "id": "e91f41d3",
   "metadata": {},
   "outputs": [],
   "source": [
    "blog_table.to_excel('blog2.xlsx')"
   ]
  },
  {
   "cell_type": "markdown",
   "id": "12947ddb",
   "metadata": {},
   "source": [
    "# 블로그 이미지 크롤링 "
   ]
  },
  {
   "cell_type": "code",
   "execution_count": null,
   "id": "5d69f05f",
   "metadata": {},
   "outputs": [],
   "source": [
    "from selenium import webdriver as wb\n",
    "from selenium.webdriver.common.keys import Keys"
   ]
  },
  {
   "cell_type": "code",
   "execution_count": null,
   "id": "3918bca3",
   "metadata": {},
   "outputs": [],
   "source": [
    "driver=wb.Chrome()\n",
    "# 블로그\n",
    "url=\"https://section.blog.naver.com/Search/Post.naver?pageNo=1&rangeType=ALL&orderBy=sim&keyword=\"+encText\n",
    "# 뉴스\n",
    "url=\"https://search.naver.com/search.naver?where=news&query=\"+encText+\"&sm=tab_opt&sort=1&photo=0&field=0&pd=0&ds=&de=&docid=&related=0&mynews=0&office_type=0&office_section_code=0&news_office_checked=&nso=so%3Add%2Cp%3Aall&is_sug_officeid=0\"\n",
    "driver.get(url)"
   ]
  },
  {
   "cell_type": "code",
   "execution_count": null,
   "id": "6375eddf",
   "metadata": {
    "scrolled": true
   },
   "outputs": [],
   "source": [
    "soup=bs(driver.page_source, 'lxml')"
   ]
  },
  {
   "cell_type": "code",
   "execution_count": null,
   "id": "9d086c39",
   "metadata": {},
   "outputs": [],
   "source": [
    "img1=soup.select(\"div.thumbnail_area\")"
   ]
  },
  {
   "cell_type": "code",
   "execution_count": null,
   "id": "3f4ba7c8",
   "metadata": {},
   "outputs": [],
   "source": [
    "img2=soup.select(\"a.dsc_thumb\")"
   ]
  },
  {
   "cell_type": "code",
   "execution_count": null,
   "id": "d69ba0ea",
   "metadata": {},
   "outputs": [],
   "source": [
    "img_src1=[]\n",
    "img_src2=[]"
   ]
  },
  {
   "cell_type": "code",
   "execution_count": null,
   "id": "5fce5a9a",
   "metadata": {
    "scrolled": true
   },
   "outputs": [],
   "source": [
    "len(img)"
   ]
  },
  {
   "cell_type": "code",
   "execution_count": null,
   "id": "4a5d1b66",
   "metadata": {},
   "outputs": [],
   "source": [
    "# 이미지 파일 저장 수식 테스트\n",
    "if blog_table.link[0]==img[0].a['href']:\n",
    "    img_src1=img[0].img['src']\n",
    "elif blog_table.link[i]!=img[0].a['href']:\n",
    "    img_src1=img[0].img['src']"
   ]
  },
  {
   "cell_type": "code",
   "execution_count": null,
   "id": "2f484c51",
   "metadata": {},
   "outputs": [],
   "source": [
    "# 이미지 파일 저장 수식 테스트\n",
    "if blog_table.link[0]==img[0].a['href']:\n",
    "    img_src2=img[0].img['src']\n",
    "elif blog_table.link[i]!=img[0].a['href']:\n",
    "    img_src2=img[0].img['src']"
   ]
  },
  {
   "cell_type": "markdown",
   "id": "1c568520",
   "metadata": {},
   "source": [
    "# 이미지 파일 저장"
   ]
  },
  {
   "cell_type": "code",
   "execution_count": null,
   "id": "1ab69dc4",
   "metadata": {
    "scrolled": true
   },
   "outputs": [],
   "source": [
    "# 블로그 이미지\n",
    "for i in range(len(img1)):\n",
    "    if blog_table.link[i]==img[i].a['href']:\n",
    "        img_src1.append(img[i].img['src'])\n",
    "    else:\n",
    "        img_src1.append('')"
   ]
  },
  {
   "cell_type": "code",
   "execution_count": null,
   "id": "b62ca639",
   "metadata": {},
   "outputs": [],
   "source": [
    "# 뉴스 이미지\n",
    "for i in range(len(img2)):\n",
    "    if blog_table.link[i]==img[i].a['href']:\n",
    "        img_src2.append(img[i].img['src'])\n",
    "    else:\n",
    "        img_src2.append('')"
   ]
  },
  {
   "cell_type": "code",
   "execution_count": null,
   "id": "e041e446",
   "metadata": {},
   "outputs": [],
   "source": [
    "len(img_src)"
   ]
  },
  {
   "cell_type": "code",
   "execution_count": null,
   "id": "f2822ea6",
   "metadata": {},
   "outputs": [],
   "source": [
    "for i in range(len(img_src)):\n",
    "    print(i+1)\n",
    "    print(img_src[i])"
   ]
  },
  {
   "cell_type": "markdown",
   "id": "0a4c7a7d",
   "metadata": {},
   "source": [
    "## flask 구조"
   ]
  },
  {
   "cell_type": "code",
   "execution_count": null,
   "id": "5758cb1d",
   "metadata": {},
   "outputs": [
    {
     "name": "stdout",
     "output_type": "stream",
     "text": [
      " * Serving Flask app \"__main__\" (lazy loading)\n",
      " * Environment: production\n",
      "   WARNING: This is a development server. Do not use it in a production deployment.\n",
      "   Use a production WSGI server instead.\n",
      " * Debug mode: off\n"
     ]
    },
    {
     "name": "stderr",
     "output_type": "stream",
     "text": [
      " * Running on http://127.0.0.1:5000/ (Press CTRL+C to quit)\n",
      "127.0.0.1 - - [29/Dec/2021 17:27:41] \"\u001b[33mGET /?book=eded HTTP/1.1\u001b[0m\" 404 -\n",
      "[2021-12-29 17:28:14,744] ERROR in app: Exception on /book_info/ [GET]\n",
      "Traceback (most recent call last):\n",
      "  File \"C:\\Users\\smhrd\\anaconda3\\lib\\site-packages\\flask\\app.py\", line 2447, in wsgi_app\n",
      "    response = self.full_dispatch_request()\n",
      "  File \"C:\\Users\\smhrd\\anaconda3\\lib\\site-packages\\flask\\app.py\", line 1953, in full_dispatch_request\n",
      "    return self.finalize_request(rv)\n",
      "  File \"C:\\Users\\smhrd\\anaconda3\\lib\\site-packages\\flask\\app.py\", line 1968, in finalize_request\n",
      "    response = self.make_response(rv)\n",
      "  File \"C:\\Users\\smhrd\\anaconda3\\lib\\site-packages\\flask\\app.py\", line 2097, in make_response\n",
      "    raise TypeError(\n",
      "TypeError: The view function did not return a valid response. The function either returned None or ended without a return statement.\n",
      "127.0.0.1 - - [29/Dec/2021 17:28:14] \"\u001b[35m\u001b[1mGET /book_info/?book=aaa HTTP/1.1\u001b[0m\" 500 -\n"
     ]
    },
    {
     "name": "stdout",
     "output_type": "stream",
     "text": [
      "aaa\n"
     ]
    }
   ],
   "source": [
    "from flask import Flask, redirect, request\n",
    "\n",
    "app = Flask(__name__) # flask 서버객체 생성\n",
    " \n",
    "# route(경로): 외부에서 접근할 때 페이지 구분을 위한 경로지정\n",
    "@app.route('/')\n",
    "def index():\n",
    "    #크롤링(제목,저자)\n",
    "    data = request.args['book']\n",
    "    print(data)\n",
    "    #크롤링(data)\n",
    "    return redirect(\"http://127.0.0.1:8097/Map/info.jsp?URL1=test&URL2=test&URL3=test\");\n",
    "\n",
    "\n",
    "# main함수의 시작을 의미 \n",
    "# 비유하자면 자바의 main(String[] args)메소드와 같은 역할\n",
    "if __name__ == '__main__':\n",
    "    # 웹서버주소(host)와 포트번호(port)를 지정하여 웹 서버 실행\n",
    "    app.run(host='127.0.0.1', port='5000') "
   ]
  }
 ],
 "metadata": {
  "kernelspec": {
   "display_name": "Python 3",
   "language": "python",
   "name": "python3"
  },
  "language_info": {
   "codemirror_mode": {
    "name": "ipython",
    "version": 3
   },
   "file_extension": ".py",
   "mimetype": "text/x-python",
   "name": "python",
   "nbconvert_exporter": "python",
   "pygments_lexer": "ipython3",
   "version": "3.8.8"
  }
 },
 "nbformat": 4,
 "nbformat_minor": 5
}
