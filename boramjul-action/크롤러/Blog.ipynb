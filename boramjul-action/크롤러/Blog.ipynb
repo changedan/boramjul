{
 "cells": [
  {
   "cell_type": "markdown",
   "id": "cb99aefa",
   "metadata": {},
   "source": [
    "# 블로그 검색 결과 크롤링"
   ]
  },
  {
   "cell_type": "code",
   "execution_count": 1,
   "id": "17992953",
   "metadata": {},
   "outputs": [
    {
     "name": "stdout",
     "output_type": "stream",
     "text": [
      "{\n",
      "\"lastBuildDate\": \"Tue, 28 Dec 2021 16:23:12 +0900\",\n",
      "\"total\": 27216,\n",
      "\"start\": 1,\n",
      "\"display\": 7,\n",
      "\"items\": [\n",
      "{\n",
      "\"title\": \"독후감 쓰기-청소년 권장도서 김훈 역사소설 &lt;<b>칼의 노래</b>&gt;현실... \",\n",
      "\"link\": \"https:\\/\\/blog.naver.com\\/rlfwk7596?Redirect=Log&logNo=222599537775\",\n",
      "\"description\": \"&lt;<b>칼의 노래</b>&gt; &lt;현의 노래&gt; &lt;남한 산성&gt; 등의 소설 서문과 &lt;공치는 아이들&gt;&lt;밥벌이의 지겨움&gt; &lt;풍경과 상처&gt; 등의 에세이집 서문들 그리고 문학상 수상 소감들이 소개되어 있다. 작가의 필력에 매료되어 이 책들을 다... \",\n",
      "\"bloggername\": \"아이 북 사랑\",\n",
      "\"bloggerlink\": \"https://blog.naver.com/rlfwk7596\",\n",
      "\"postdate\": \"20211219\"\n",
      "\n",
      "},\n",
      "{\n",
      "\"title\": \"[<b>칼의 노래</b>] 읽지 못한 책, 읽어 버린 글\",\n",
      "\"link\": \"https:\\/\\/blog.naver.com\\/tometoyou?Redirect=Log&logNo=222587772968\",\n",
      "\"description\": \"<b>칼의 노래</b> 작가 김훈 출판 문학동네 발매 2012.01.05. 리뷰보기 &lt;읽었던 그때 그 순간의 감정과 느낌&gt; <b>칼의 노래</b> (김훈/문학동네) - 20년 7월 완독 글에 놀랐다. 김훈이라는 작가에 대해서는 전부터 너무도 많이... \",\n",
      "\"bloggername\": \"하얀 바탕에 검은 글자를 채우는 새벽\",\n",
      "\"bloggerlink\": \"https://blog.naver.com/tometoyou\",\n",
      "\"postdate\": \"20211206\"\n",
      "\n",
      "},\n",
      "{\n",
      "\"title\": \"9월 첫 번째 후기, 지정도서 <b>칼의 노래</b> - 김훈\",\n",
      "\"link\": \"https:\\/\\/blog.naver.com\\/kissing009?Redirect=Log&logNo=222087508706\",\n",
      "\"description\": \"<b>칼의 노래</b> 저자 김훈 출판 문학동네 발매 2012.01.05. 나에게 이 책은? 9월 지정도서로 선택된 책입니다.... 특히 남한산성과 <b>칼의 노래</b> 중에 <b>칼의 노래</b>가 제목부터 뭔가 더 끌렸고, 그냥 무작정 선택한 후에 무슨... \",\n",
      "\"bloggername\": \"한계를 그어놓으면, 결국 그렇게 되고 만다\",\n",
      "\"bloggerlink\": \"https://blog.naver.com/kissing009\",\n",
      "\"postdate\": \"20200913\"\n",
      "\n",
      "},\n",
      "{\n",
      "\"title\": \"<b>칼의노래</b> 김훈 이순신 장군을 기억하며\",\n",
      "\"link\": \"https:\\/\\/blog.naver.com\\/choiceagg?Redirect=Log&logNo=222007059967\",\n",
      "\"description\": \"이순신을 기억하며 읽는 <b>칼의노래</b> 저희는 이번 남해 여행을 통해서 이순신 장구님의 흔적이 남아있는... 그리고 그 여행 준비의 시작을 <b>칼의노래</b>부터 시작을 하려 합니다. 저는 이미 다 읽었고 아내도 오늘이면... \",\n",
      "\"bloggername\": \"둥이부부의 세계여행\",\n",
      "\"bloggerlink\": \"https://blog.naver.com/choiceagg\",\n",
      "\"postdate\": \"20200620\"\n",
      "\n",
      "},\n",
      "{\n",
      "\"title\": \"서평 :: <b>칼의 노래</b> - 김훈\",\n",
      "\"link\": \"https:\\/\\/blog.naver.com\\/cyberkimsol?Redirect=Log&logNo=222252548807\",\n",
      "\"description\": \"서평 :: <b>칼의노래</b> - 김훈 <b>칼의 노래</b> 저자 김훈 출판 생각의나무 발매 2001.10.22. 저희 회사 책꽂이에 있어 읽기 시작한 책. <b>칼의 노래</b>는 예전 느낌표에서 노무현 전 대통령님이 나와서 '<b>칼의 노래</b>'를 추천해서 정말... \",\n",
      "\"bloggername\": \"솔세무사 웰니스블로그 ·ᴗ·\",\n",
      "\"bloggerlink\": \"https://blog.naver.com/cyberkimsol\",\n",
      "\"postdate\": \"20210222\"\n",
      "\n",
      "},\n",
      "{\n",
      "\"title\": \"중소기업 가지마라 22[<b>칼의 노래</b>_김훈]\",\n",
      "\"link\": \"https:\\/\\/blog.naver.com\\/findpoint?Redirect=Log&logNo=222362458298\",\n",
      "\"description\": \"<b>칼의 노래</b>_ 김훈 정말로 오래 되었다. 이 <b>칼의 노래</b> 책을 읽은 지... 당시 김훈이라는 작가님을 모를 때 였는데 책을 읽고 상당히 놀랐다. 이렇게 단문식으로 말끔한 내용과 은유와 전달이 가능한 작가가 있구나... \",\n",
      "\"bloggername\": \"becoming wiser\",\n",
      "\"bloggerlink\": \"https://blog.naver.com/findpoint\",\n",
      "\"postdate\": \"20210523\"\n",
      "\n",
      "},\n",
      "{\n",
      "\"title\": \"<b>칼의 노래</b> (김훈) 독후감, 해석\",\n",
      "\"link\": \"https:\\/\\/blog.naver.com\\/nayoung622?Redirect=Log&logNo=222202256657\",\n",
      "\"description\": \"<b>칼의 노래</b> (김훈) 30402 김나영 조사 문제: 이순신의 영웅화에 대하여 조사해보자. 이순신이 중요한... 생각 문제: 김훈이 《<b>칼의 노래</b>》를 통해 조명하고자 했던 이순신의 면모에 대하여 생각해보자. 《칼의... \",\n",
      "\"bloggername\": \"바라기\",\n",
      "\"bloggerlink\": \"https://blog.naver.com/nayoung622\",\n",
      "\"postdate\": \"20210109\"\n",
      "\n",
      "}\n",
      "]\n",
      "}\n",
      "\n"
     ]
    }
   ],
   "source": [
    "import os\n",
    "import sys\n",
    "import urllib.request\n",
    "client_id = \"3wU5xwXfFVL4LweQzLHQ\"\n",
    "client_secret = \"K60NkftSAH\"\n",
    "encText = urllib.parse.quote(\"칼의노래\")\n",
    "url = \"https://openapi.naver.com/v1/search/blog?query=\" + encText + \"&display=7\" # json 결과\n",
    "# url = \"https://openapi.naver.com/v1/search/blog.xml?query=\" + encText # xml 결과\n",
    "request = urllib.request.Request(url)\n",
    "request.add_header(\"X-Naver-Client-Id\",client_id)\n",
    "request.add_header(\"X-Naver-Client-Secret\",client_secret)\n",
    "response = urllib.request.urlopen(request)\n",
    "rescode = response.getcode()\n",
    "blog={}\n",
    "if(rescode==200):\n",
    "    response_body = response.read()\n",
    "    print(response_body.decode('utf-8'))\n",
    "    blog=response_body.decode('utf-8')\n",
    "else:\n",
    "    print(\"Error Code:\" + rescode)"
   ]
  },
  {
   "cell_type": "markdown",
   "id": "c3f6f241",
   "metadata": {},
   "source": [
    "# 불필요한 문자&태그 삭제 "
   ]
  },
  {
   "cell_type": "code",
   "execution_count": 2,
   "id": "4413476c",
   "metadata": {},
   "outputs": [],
   "source": [
    "blog=blog.replace(\"\\n\",\"\")\n",
    "blog=blog.replace(\"\\\\\",\"\")\n",
    "blog=blog.replace(\"</b>\",\"\")\n",
    "blog=blog.replace(\"<b>\",\"\")\n",
    "blog=blog.replace(\"&lt;\",\"\")\n",
    "blog=blog.replace(\"&gt;\",\"\")\n",
    "blog=blog.replace(\"&quot;\",\"\")\n",
    "blog=blog.replace(\"?Redirect=Log&logNo=\",\"/\")"
   ]
  },
  {
   "cell_type": "markdown",
   "id": "d8f0b096",
   "metadata": {},
   "source": [
    "# 블로그정보 데이터프레임"
   ]
  },
  {
   "cell_type": "code",
   "execution_count": 3,
   "id": "eb6fc433",
   "metadata": {},
   "outputs": [],
   "source": [
    "import json\n",
    "from bs4 import BeautifulSoup as bs\n",
    "import pandas as pd\n",
    "from urllib.request import urlretrieve"
   ]
  },
  {
   "cell_type": "code",
   "execution_count": 4,
   "id": "f07afc77",
   "metadata": {},
   "outputs": [],
   "source": [
    "blog_list=json.loads(blog)"
   ]
  },
  {
   "cell_type": "code",
   "execution_count": 5,
   "id": "362a3a87",
   "metadata": {},
   "outputs": [],
   "source": [
    "blog_table=pd.DataFrame(blog_list['items'],columns=['title','link','bloggername','bloggerlink','description'])"
   ]
  },
  {
   "cell_type": "code",
   "execution_count": 6,
   "id": "c14e975a",
   "metadata": {
    "scrolled": true
   },
   "outputs": [
    {
     "data": {
      "text/html": [
       "<div>\n",
       "<style scoped>\n",
       "    .dataframe tbody tr th:only-of-type {\n",
       "        vertical-align: middle;\n",
       "    }\n",
       "\n",
       "    .dataframe tbody tr th {\n",
       "        vertical-align: top;\n",
       "    }\n",
       "\n",
       "    .dataframe thead th {\n",
       "        text-align: right;\n",
       "    }\n",
       "</style>\n",
       "<table border=\"1\" class=\"dataframe\">\n",
       "  <thead>\n",
       "    <tr style=\"text-align: right;\">\n",
       "      <th></th>\n",
       "      <th>title</th>\n",
       "      <th>link</th>\n",
       "      <th>bloggername</th>\n",
       "      <th>bloggerlink</th>\n",
       "      <th>description</th>\n",
       "    </tr>\n",
       "  </thead>\n",
       "  <tbody>\n",
       "    <tr>\n",
       "      <th>0</th>\n",
       "      <td>독후감 쓰기-청소년 권장도서 김훈 역사소설 칼의 노래현실...</td>\n",
       "      <td>https://blog.naver.com/rlfwk7596/222599537775</td>\n",
       "      <td>아이 북 사랑</td>\n",
       "      <td>https://blog.naver.com/rlfwk7596</td>\n",
       "      <td>칼의 노래 현의 노래 남한 산성 등의 소설 서문과 공치는 아이들밥벌이의 지겨움 풍경...</td>\n",
       "    </tr>\n",
       "    <tr>\n",
       "      <th>1</th>\n",
       "      <td>[칼의 노래] 읽지 못한 책, 읽어 버린 글</td>\n",
       "      <td>https://blog.naver.com/tometoyou/222587772968</td>\n",
       "      <td>하얀 바탕에 검은 글자를 채우는 새벽</td>\n",
       "      <td>https://blog.naver.com/tometoyou</td>\n",
       "      <td>칼의 노래 작가 김훈 출판 문학동네 발매 2012.01.05. 리뷰보기 읽었던 그때...</td>\n",
       "    </tr>\n",
       "    <tr>\n",
       "      <th>2</th>\n",
       "      <td>9월 첫 번째 후기, 지정도서 칼의 노래 - 김훈</td>\n",
       "      <td>https://blog.naver.com/kissing009/222087508706</td>\n",
       "      <td>한계를 그어놓으면, 결국 그렇게 되고 만다</td>\n",
       "      <td>https://blog.naver.com/kissing009</td>\n",
       "      <td>칼의 노래 저자 김훈 출판 문학동네 발매 2012.01.05. 나에게 이 책은? 9...</td>\n",
       "    </tr>\n",
       "    <tr>\n",
       "      <th>3</th>\n",
       "      <td>칼의노래 김훈 이순신 장군을 기억하며</td>\n",
       "      <td>https://blog.naver.com/choiceagg/222007059967</td>\n",
       "      <td>둥이부부의 세계여행</td>\n",
       "      <td>https://blog.naver.com/choiceagg</td>\n",
       "      <td>이순신을 기억하며 읽는 칼의노래 저희는 이번 남해 여행을 통해서 이순신 장구님의 흔...</td>\n",
       "    </tr>\n",
       "    <tr>\n",
       "      <th>4</th>\n",
       "      <td>서평 :: 칼의 노래 - 김훈</td>\n",
       "      <td>https://blog.naver.com/cyberkimsol/222252548807</td>\n",
       "      <td>솔세무사 웰니스블로그 ·ᴗ·</td>\n",
       "      <td>https://blog.naver.com/cyberkimsol</td>\n",
       "      <td>서평 :: 칼의노래 - 김훈 칼의 노래 저자 김훈 출판 생각의나무 발매 2001.1...</td>\n",
       "    </tr>\n",
       "    <tr>\n",
       "      <th>5</th>\n",
       "      <td>중소기업 가지마라 22[칼의 노래_김훈]</td>\n",
       "      <td>https://blog.naver.com/findpoint/222362458298</td>\n",
       "      <td>becoming wiser</td>\n",
       "      <td>https://blog.naver.com/findpoint</td>\n",
       "      <td>칼의 노래_ 김훈 정말로 오래 되었다. 이 칼의 노래 책을 읽은 지... 당시 김훈...</td>\n",
       "    </tr>\n",
       "    <tr>\n",
       "      <th>6</th>\n",
       "      <td>칼의 노래 (김훈) 독후감, 해석</td>\n",
       "      <td>https://blog.naver.com/nayoung622/222202256657</td>\n",
       "      <td>바라기</td>\n",
       "      <td>https://blog.naver.com/nayoung622</td>\n",
       "      <td>칼의 노래 (김훈) 30402 김나영 조사 문제: 이순신의 영웅화에 대하여 조사해보...</td>\n",
       "    </tr>\n",
       "  </tbody>\n",
       "</table>\n",
       "</div>"
      ],
      "text/plain": [
       "                                 title  \\\n",
       "0  독후감 쓰기-청소년 권장도서 김훈 역사소설 칼의 노래현실...    \n",
       "1             [칼의 노래] 읽지 못한 책, 읽어 버린 글   \n",
       "2          9월 첫 번째 후기, 지정도서 칼의 노래 - 김훈   \n",
       "3                 칼의노래 김훈 이순신 장군을 기억하며   \n",
       "4                     서평 :: 칼의 노래 - 김훈   \n",
       "5               중소기업 가지마라 22[칼의 노래_김훈]   \n",
       "6                   칼의 노래 (김훈) 독후감, 해석   \n",
       "\n",
       "                                              link              bloggername  \\\n",
       "0    https://blog.naver.com/rlfwk7596/222599537775                  아이 북 사랑   \n",
       "1    https://blog.naver.com/tometoyou/222587772968     하얀 바탕에 검은 글자를 채우는 새벽   \n",
       "2   https://blog.naver.com/kissing009/222087508706  한계를 그어놓으면, 결국 그렇게 되고 만다   \n",
       "3    https://blog.naver.com/choiceagg/222007059967               둥이부부의 세계여행   \n",
       "4  https://blog.naver.com/cyberkimsol/222252548807          솔세무사 웰니스블로그 ·ᴗ·   \n",
       "5    https://blog.naver.com/findpoint/222362458298           becoming wiser   \n",
       "6   https://blog.naver.com/nayoung622/222202256657                      바라기   \n",
       "\n",
       "                          bloggerlink  \\\n",
       "0    https://blog.naver.com/rlfwk7596   \n",
       "1    https://blog.naver.com/tometoyou   \n",
       "2   https://blog.naver.com/kissing009   \n",
       "3    https://blog.naver.com/choiceagg   \n",
       "4  https://blog.naver.com/cyberkimsol   \n",
       "5    https://blog.naver.com/findpoint   \n",
       "6   https://blog.naver.com/nayoung622   \n",
       "\n",
       "                                         description  \n",
       "0  칼의 노래 현의 노래 남한 산성 등의 소설 서문과 공치는 아이들밥벌이의 지겨움 풍경...  \n",
       "1  칼의 노래 작가 김훈 출판 문학동네 발매 2012.01.05. 리뷰보기 읽었던 그때...  \n",
       "2  칼의 노래 저자 김훈 출판 문학동네 발매 2012.01.05. 나에게 이 책은? 9...  \n",
       "3  이순신을 기억하며 읽는 칼의노래 저희는 이번 남해 여행을 통해서 이순신 장구님의 흔...  \n",
       "4  서평 :: 칼의노래 - 김훈 칼의 노래 저자 김훈 출판 생각의나무 발매 2001.1...  \n",
       "5  칼의 노래_ 김훈 정말로 오래 되었다. 이 칼의 노래 책을 읽은 지... 당시 김훈...  \n",
       "6  칼의 노래 (김훈) 30402 김나영 조사 문제: 이순신의 영웅화에 대하여 조사해보...  "
      ]
     },
     "execution_count": 6,
     "metadata": {},
     "output_type": "execute_result"
    }
   ],
   "source": [
    "blog_table"
   ]
  },
  {
   "cell_type": "code",
   "execution_count": 7,
   "id": "e91f41d3",
   "metadata": {},
   "outputs": [],
   "source": [
    "blog_table.to_excel('blog2.xlsx')"
   ]
  },
  {
   "cell_type": "markdown",
   "id": "12947ddb",
   "metadata": {},
   "source": [
    "# 블로그 이미지 크롤링 "
   ]
  },
  {
   "cell_type": "code",
   "execution_count": 8,
   "id": "5d69f05f",
   "metadata": {},
   "outputs": [],
   "source": [
    "from selenium import webdriver as wb\n",
    "from selenium.webdriver.common.keys import Keys"
   ]
  },
  {
   "cell_type": "code",
   "execution_count": 9,
   "id": "3918bca3",
   "metadata": {},
   "outputs": [],
   "source": [
    "driver=wb.Chrome()\n",
    "url=\"https://section.blog.naver.com/Search/Post.naver?pageNo=1&rangeType=ALL&orderBy=sim&keyword=\"+encText\n",
    "driver.get(url)"
   ]
  },
  {
   "cell_type": "code",
   "execution_count": 10,
   "id": "6375eddf",
   "metadata": {
    "scrolled": true
   },
   "outputs": [],
   "source": [
    "soup=bs(driver.page_source, 'lxml')"
   ]
  },
  {
   "cell_type": "code",
   "execution_count": 13,
   "id": "9d086c39",
   "metadata": {},
   "outputs": [],
   "source": [
    "img=soup.select(\"div.thumbnail_area\")"
   ]
  },
  {
   "cell_type": "code",
   "execution_count": 14,
   "id": "d69ba0ea",
   "metadata": {},
   "outputs": [],
   "source": [
    "img_src=[]"
   ]
  },
  {
   "cell_type": "code",
   "execution_count": 15,
   "id": "5fce5a9a",
   "metadata": {
    "scrolled": true
   },
   "outputs": [
    {
     "data": {
      "text/plain": [
       "7"
      ]
     },
     "execution_count": 15,
     "metadata": {},
     "output_type": "execute_result"
    }
   ],
   "source": [
    "len(img)"
   ]
  },
  {
   "cell_type": "code",
   "execution_count": 197,
   "id": "4a5d1b66",
   "metadata": {},
   "outputs": [],
   "source": [
    "# 이미지 파일 저장 수식 테스트\n",
    "if blog_table.link[0]==img[0].a['href']:\n",
    "    img_src=img[0].img['src']\n",
    "elif blog_table.link[i]!=img[0].a['href']:\n",
    "    img_src=img[0].img['src']"
   ]
  },
  {
   "cell_type": "markdown",
   "id": "1c568520",
   "metadata": {},
   "source": [
    "# 이미지 파일 저장"
   ]
  },
  {
   "cell_type": "code",
   "execution_count": 16,
   "id": "1ab69dc4",
   "metadata": {
    "scrolled": true
   },
   "outputs": [],
   "source": [
    "for i in range(len(img)):\n",
    "    if blog_table.link[i]==img[i].a['href']:\n",
    "        img_src.append(img[i].img['src'])\n",
    "    else:\n",
    "        img_src.append('')"
   ]
  },
  {
   "cell_type": "code",
   "execution_count": 18,
   "id": "e041e446",
   "metadata": {},
   "outputs": [
    {
     "data": {
      "text/plain": [
       "7"
      ]
     },
     "execution_count": 18,
     "metadata": {},
     "output_type": "execute_result"
    }
   ],
   "source": [
    "len(img_src)"
   ]
  },
  {
   "cell_type": "code",
   "execution_count": 19,
   "id": "f2822ea6",
   "metadata": {},
   "outputs": [
    {
     "name": "stdout",
     "output_type": "stream",
     "text": [
      "1\n",
      "https://blogthumb.pstatic.net/MjAyMTEyMTlfMTU3/MDAxNjM5OTIyNzQ4NjIw.DuFtaVCwvBEln4cznibUykU_kD8QsUAr032ZY5wAlOgg.WdHBiB_NZWqw4_aG-Vy3YaHYccyYapRtRSiEQYSnYr8g.JPEG.rlfwk7596/KakaoTalk_20211219_225020448.jpg?type=s2\n",
      "2\n",
      "https://blogthumb.pstatic.net/MjAyMTEyMDZfMTk0/MDAxNjM4NzM3OTExNDUy.9OqsfLEkhGTa_TPORlisXftZWMRZ3blQ3RrhkW20e7sg.qmS5GujK3fDYBkG4znxiL7E5rk_BTieVlY5EpTZhPJMg.JPEG.tometoyou/IMG_8612.jpg?type=s2\n",
      "3\n",
      "\n",
      "4\n",
      "https://blogthumb.pstatic.net/MjAyMDA2MjBfNTEg/MDAxNTkyNjQ1OTg5NjU3.X0xdz6UdOaP9N_N7lH131CMViZhrnVHZWwg3RA8ed9Qg.EWGmsLG3NbF2lF2HQ2TFHlP12AXK2s6ZwZGhfBWptC4g.JPEG.choiceagg/IMG_8149.JPG?type=s2\n",
      "5\n",
      "https://blogthumb.pstatic.net/MjAyMTAyMjFfMTU3/MDAxNjEzOTA2ODE5MTc5.GW0hrxRNf-N026LwhjhEKDhHwMdfI_OWK5Nd9zw81Ywg.i5KzQq0vlwCcCLyDknWizA1guY5GyJ3z_jtFtwGXB68g.JPEG.cyberkimsol/PicsArt%A3%DF02%A3%AD08%A3%AD06.29.51.jpg?type=s2\n",
      "6\n",
      "\n",
      "7\n",
      "\n"
     ]
    }
   ],
   "source": [
    "for i in range(len(img_src)):\n",
    "    print(i+1)\n",
    "    print(img_src[i])"
   ]
  },
  {
   "cell_type": "code",
   "execution_count": null,
   "id": "a84fdb7a",
   "metadata": {},
   "outputs": [],
   "source": []
  },
  {
   "cell_type": "code",
   "execution_count": null,
   "id": "5758cb1d",
   "metadata": {},
   "outputs": [],
   "source": []
  }
 ],
 "metadata": {
  "kernelspec": {
   "display_name": "Python 3",
   "language": "python",
   "name": "python3"
  },
  "language_info": {
   "codemirror_mode": {
    "name": "ipython",
    "version": 3
   },
   "file_extension": ".py",
   "mimetype": "text/x-python",
   "name": "python",
   "nbconvert_exporter": "python",
   "pygments_lexer": "ipython3",
   "version": "3.8.8"
  }
 },
 "nbformat": 4,
 "nbformat_minor": 5
}
