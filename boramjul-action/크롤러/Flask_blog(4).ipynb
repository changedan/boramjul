{
 "cells": [
  {
   "cell_type": "code",
   "execution_count": null,
   "id": "10ddf51b",
   "metadata": {},
   "outputs": [],
   "source": [
    "# flask 다운로드\n",
    "!pip install flask\n",
    "!pip install flask_cors"
   ]
  },
  {
   "cell_type": "code",
   "execution_count": 1,
   "id": "51d373d8",
   "metadata": {},
   "outputs": [],
   "source": [
    "import os\n",
    "import sys\n",
    "import urllib.request\n",
    "import json\n",
    "import pandas as pd\n",
    "from flask import Flask, redirect, request\n",
    "client_id = \"3wU5xwXfFVL4LweQzLHQ\"\n",
    "client_secret = \"K60NkftSAH\""
   ]
  },
  {
   "cell_type": "markdown",
   "id": "0a4c7a7d",
   "metadata": {},
   "source": [
    "## flask 구조"
   ]
  },
  {
   "cell_type": "code",
   "execution_count": null,
   "id": "37cf86e0",
   "metadata": {
    "scrolled": true
   },
   "outputs": [
    {
     "name": "stdout",
     "output_type": "stream",
     "text": [
      " * Serving Flask app \"__main__\" (lazy loading)\n",
      " * Environment: production\n",
      "   WARNING: This is a development server. Do not use it in a production deployment.\n",
      "   Use a production WSGI server instead.\n",
      " * Debug mode: off\n"
     ]
    },
    {
     "name": "stderr",
     "output_type": "stream",
     "text": [
      " * Running on http://172.30.1.51:5021/ (Press CTRL+C to quit)\n",
      "[2021-12-31 13:33:02,479] ERROR in app: Exception on / [GET]\n",
      "Traceback (most recent call last):\n",
      "  File \"C:\\Users\\smhrd\\anaconda3\\lib\\site-packages\\flask\\app.py\", line 2447, in wsgi_app\n",
      "    response = self.full_dispatch_request()\n",
      "  File \"C:\\Users\\smhrd\\anaconda3\\lib\\site-packages\\flask\\app.py\", line 1952, in full_dispatch_request\n",
      "    rv = self.handle_user_exception(e)\n",
      "  File \"C:\\Users\\smhrd\\anaconda3\\lib\\site-packages\\flask_cors\\extension.py\", line 165, in wrapped_function\n",
      "    return cors_after_request(app.make_response(f(*args, **kwargs)))\n",
      "  File \"C:\\Users\\smhrd\\anaconda3\\lib\\site-packages\\flask\\app.py\", line 1821, in handle_user_exception\n",
      "    reraise(exc_type, exc_value, tb)\n",
      "  File \"C:\\Users\\smhrd\\anaconda3\\lib\\site-packages\\flask\\_compat.py\", line 39, in reraise\n",
      "    raise value\n",
      "  File \"C:\\Users\\smhrd\\anaconda3\\lib\\site-packages\\flask\\app.py\", line 1950, in full_dispatch_request\n",
      "    rv = self.dispatch_request()\n",
      "  File \"C:\\Users\\smhrd\\anaconda3\\lib\\site-packages\\flask\\app.py\", line 1936, in dispatch_request\n",
      "    return self.view_functions[rule.endpoint](**req.view_args)\n",
      "  File \"<ipython-input-3-49a212db0944>\", line 65, in index\n",
      "    print(crawling(title, author))\n",
      "  File \"<ipython-input-3-49a212db0944>\", line 16, in crawling\n",
      "    data1 = urllib.parse.quote(title) ## 검색어\n",
      "NameError: name 'urllib' is not defined\n",
      "172.30.1.51 - - [31/Dec/2021 13:33:02] \"\u001b[35m\u001b[1mGET /?title=불편한%20편의점(15만부%20기념%20윈터%20에디션)&author=불편한%20편의점(15만부%20기념%20윈터%20에디션) HTTP/1.1\u001b[0m\" 500 -\n",
      "172.30.1.51 - - [31/Dec/2021 13:35:29] \"\u001b[31m\u001b[1mGET / HTTP/1.1\u001b[0m\" 400 -\n"
     ]
    }
   ],
   "source": [
    "from flask import Flask, redirect, request\n",
    "from flask_cors import CORS, cross_origin\n",
    "import json\n",
    "\n",
    "app = Flask(__name__) # flask 서버객체 생성\n",
    "\n",
    "CORS(app, resources={r'*': {'origins': '*'}})\n",
    "# CORS(app, resources={r'*': {'origins': 'https://webisfree.com'}})\n",
    "# CORS(app, resources={r'/_api/*': {'origins': 'https://webisfree.com:5000'}})\n",
    "\n",
    "\n",
    "def crawling(title, author):\n",
    "    result = ''\n",
    "    ## <!-- 검색어 -->\n",
    "    data1 = urllib.parse.quote(title) ## 검색어\n",
    "    data2 = urllib.parse.quote(author) ## 검색어\n",
    "    booktitle_search = urllib.parse.quote(data1) ## 책 제목 검색어\n",
    "    author_search = urllib.parse.quote(data2) ## 책 저자 검색어\n",
    "\n",
    "    ## <!-- 블로그 크롤링 start -->\n",
    "    url1 = \"https://openapi.naver.com/v1/search/blog?query=\" + data1 + \"+\" + data2 + \"&display=5\" # json 결과\n",
    "    request = urllib.request.Request(url1)\n",
    "    request.add_header(\"X-Naver-Client-Id\",client_id)\n",
    "    request.add_header(\"X-Naver-Client-Secret\",client_secret)\n",
    "    response = urllib.request.urlopen(request)\n",
    "    rescode = response.getcode()\n",
    "    blog_search = [] ## 블로그 검색 결과 리스트\n",
    "    if(rescode==200):\n",
    "        response_body = response.read()\n",
    "        text = response_body.decode('utf-8') ## 인코딩\n",
    "        dict = json.loads(text.strip()) ## text 변환\n",
    "        blog_t = dict['items']\n",
    "        for i in blog_t:\n",
    "            blog_search.append({'title': i['title'], 'link': i['link']})\n",
    "        result = blog_search\n",
    "    else:\n",
    "        result += \"Error Code:\"\n",
    "        result += rescode\n",
    "    ## <!-- 블로그 크롤링 end -->\n",
    "    return result\n",
    "\n",
    "# route(경로): 외부에서 접근할 때 페이지 구분을 위한 경로지정\n",
    "@app.route('/', methods=['GET','POST'])\n",
    "def index():\n",
    "    title = request.args['title']\n",
    "    author = request.args['author']\n",
    "    print(crawling(title, author))    \n",
    "    return json.dumps(crawling(title, author))\n",
    "    \n",
    "if __name__ == '__main__':\n",
    "    # 웹서버주소(host)와 포트번호(port)를 지정하여 웹 서버 실행\n",
    "    app.run(host='172.30.1.51', port=5021) ## [???] 주소 확인 필요    "
   ]
  }
 ],
 "metadata": {
  "kernelspec": {
   "display_name": "Python 3",
   "language": "python",
   "name": "python3"
  },
  "language_info": {
   "codemirror_mode": {
    "name": "ipython",
    "version": 3
   },
   "file_extension": ".py",
   "mimetype": "text/x-python",
   "name": "python",
   "nbconvert_exporter": "python",
   "pygments_lexer": "ipython3",
   "version": "3.8.8"
  }
 },
 "nbformat": 4,
 "nbformat_minor": 5
}
