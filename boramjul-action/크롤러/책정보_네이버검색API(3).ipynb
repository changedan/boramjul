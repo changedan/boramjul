{
 "cells": [
  {
   "cell_type": "markdown",
   "id": "024ea959",
   "metadata": {},
   "source": [
    "# save"
   ]
  },
  {
   "cell_type": "markdown",
   "id": "929a2b27",
   "metadata": {},
   "source": [
    "import json ## JSON\n",
    "import urllib.request ## 웹페이지 요청 ==> 브라우저 사용\n",
    "client_id = \"3wU5xwXfFVL4LweQzLHQ\" # 애플리케이션 ID\n",
    "client_secret = \"K60NkftSAH\" # 애플리케이션  Secret\n",
    "\n",
    "encText = urllib.parse.quote(\"파이썬\") ## 한글 URL 추가 ==> URL 인코딩\n",
    "rangeText_start = urllib.parse.quote(\"1\") ## 요청 변수\n",
    "url = \"https://openapi.naver.com/v1/search/book?query=\" + encText + \"&display=1\" + \"&start=\" + rangeText_start ## 요청 URL + 요청 변수\n",
    "request = urllib.request.Request(url) ## urllib.request.Request 클래스 == URL 요청 관련 정보 담는 추상화 클래스\n",
    "request.add_header(\"X-Naver-Client-Id\",client_id) ## add_header 메서드 ==> 헤더 정보 추가\n",
    "request.add_header(\"X-Naver-Client-Secret\",client_secret)  ## add_header 메서드 ==> 헤더 정보 추가\n",
    "response = urllib.request.urlopen(request) ## urllib.request.urlopen 메서드 ==> url string OR request 객체 전달 받음\n",
    "rescode = response.getcode()\n",
    "book_list = []\n",
    "\n",
    "if(rescode==200):\n",
    "    response_body = response.read()\n",
    "    print(response_body.decode('utf-8')) ## 인코딩\n",
    "    text = response_body.decode('utf-8') ## 인코딩\n",
    "    print(type(text))\n",
    "    dict = json.loads(text) ## text로 변환\n",
    "    print(dict) ## text로 변환 출력\n",
    "    val  = dict['items']\n",
    "    for j in val :\n",
    "        book_list.append(j['title'])\n",
    "        book_list.append(j['author'])\n",
    "        book_list.append(j['publisher'])\n",
    "    search = \"<b>\"\n",
    "    for i, word in enumerate(book_list):\n",
    "        if search in word: \n",
    "            book_list[i] = word.strip(search)\n",
    "else:\n",
    "    print(\"Error Code:\" + rescode) ## 네이버 API 오류 코드 ==> 가이드 참고\n",
    "\n",
    "\n",
    "print(book_list)"
   ]
  },
  {
   "cell_type": "code",
   "execution_count": null,
   "id": "36a61a7d",
   "metadata": {},
   "outputs": [],
   "source": []
  },
  {
   "cell_type": "code",
   "execution_count": null,
   "id": "17a1772a",
   "metadata": {},
   "outputs": [],
   "source": []
  },
  {
   "cell_type": "markdown",
   "id": "07db001f",
   "metadata": {},
   "source": [
    "# now"
   ]
  },
  {
   "cell_type": "code",
   "execution_count": 77,
   "id": "dd4fcb7d",
   "metadata": {},
   "outputs": [],
   "source": [
    "import json ## JSON\n",
    "import urllib.request ## 웹페이지 요청 ==> 브라우저 사용\n",
    "import pandas as pd ## pandasn => df 사용\n",
    "client_id = \"3wU5xwXfFVL4LweQzLHQ\" # 애플리케이션 ID\n",
    "client_secret = \"K60NkftSAH\" # 애플리케이션  Secret"
   ]
  },
  {
   "cell_type": "code",
   "execution_count": 82,
   "id": "d8c1b894",
   "metadata": {},
   "outputs": [
    {
     "name": "stdout",
     "output_type": "stream",
     "text": [
      "{'lastBuildDate': 'Sun, 26 Dec 2021 14:04:30 +0900', 'total': 1430, 'start': 1, 'display': 1, 'items': [{'title': '이것이 취업을 위한 코딩 테스트다 with <b>파이썬</b> (취업과 이직을 결정하는 알고리즘 인터뷰 완벽 가이드)', 'link': 'http://book.naver.com/bookdb/book_detail.php?bid=16439154', 'image': 'https://bookthumb-phinf.pstatic.net/cover/164/391/16439154.jpg?type=m1&udate=20200928', 'author': '나동빈', 'price': '34000', 'discount': '30600', 'publisher': '한빛미디어', 'pubdate': '20200805', 'isbn': '1162243074 9791162243077', 'description': '8가지 핵심 알고리즘 이론을 쉽게 설명하고, 관련 실전 문제를 풀이했다. 출제 유형 분석, 이론 설명, 기출문제 풀이까지! 어떤 코딩 테스트도 이 책 한 권으로 대비할 수 있을 것이다. 코딩 테스트에서 주로 선택하는 <b>파이썬</b>을 기반으로 설명되어 있으며, <b>파이썬</b> 코드 외에도 C/C++, 자바 코드를 추가로 제공한다.'}]}\n"
     ]
    }
   ],
   "source": [
    "encText = urllib.parse.quote(\"파이썬\") ## 한글 URL 추가 ==> URL 인코딩\n",
    "rangeText_start = urllib.parse.quote(\"1\") ## 요청 변수\n",
    "url = \"https://openapi.naver.com/v1/search/book?query=\" + encText + \"&display=1\" + \"&start=\" + rangeText_start ## 요청 URL + 요청 변수\n",
    "request = urllib.request.Request(url) ## urllib.request.Request 클래스 == URL 요청 관련 정보 담는 추상화 클래스\n",
    "request.add_header(\"X-Naver-Client-Id\",client_id) ## add_header 메서드 ==> 헤더 정보 추가\n",
    "request.add_header(\"X-Naver-Client-Secret\",client_secret)  ## add_header 메서드 ==> 헤더 정보 추가\n",
    "response = urllib.request.urlopen(request) ## urllib.request.urlopen 메서드 ==> url string OR request 객체 전달 받음\n",
    "rescode = response.getcode()\n",
    "\n",
    "## 리스트\n",
    "book_title = [] ## 책 제목\n",
    "book_date = [] ## 책 출간일\n",
    "book_author = [] ## 책 저자\n",
    "book_brief = [] ## 책 요약\n",
    "book_cat = [] ## 책 카테고리\n",
    "book_cat = [] ## 책 출판사\n",
    "book_cat = [] ## 책 쪽수\n",
    "book_cat = [] ## 책 목차\n",
    "book_cat = [] ## 책 표지이미지\n",
    "book_cat = [] ## 책 해시태그\n",
    "\n",
    "if(rescode==200):\n",
    "    response_body = response.read()\n",
    "    #print(response_body.decode('utf-8')) ## 인코딩\n",
    "    text = response_body.decode('utf-8') ## 인코딩\n",
    "    #print(type(text))\n",
    "    dict = json.loads(text) ## text로 변환\n",
    "    print(dict) ## text로 변환 출력\n",
    "    val  = dict['items']\n",
    "    for j in val :\n",
    "        book_title.append(j['title']) ## 책 제목\n",
    "        #book_list.append(j['pubdate']) ## 책 출간일\n",
    "        #book_list.append(j['author']) ## 책 저자\n",
    "        #book_list.append(j['description']) ## 책 요약\n",
    "        #book_list.append(j['']) ## 책 카테고리\n",
    "        #book_list.append(j['publisher']) ## 책 출판사\n",
    "        #book_list.append(j['publisher']) ## 책 쪽수\n",
    "        #book_list.append(j['']) ## 책 목차\n",
    "        #book_list.append(j['publisher']) ## 책 표지이미지\n",
    "        #book_list.append(j['']) ## 책 해시태그\n",
    "    search = \"이것이\"\n",
    "    for i, word in enumerate(book_list):\n",
    "        if search in word: \n",
    "            book_list[i] = word.strip(search)\n",
    "else:\n",
    "    print(\"Error Code:\" + rescode) ## 네이버 API 오류 코드 ==> 가이드 참고"
   ]
  },
  {
   "cell_type": "code",
   "execution_count": 81,
   "id": "e02b79de",
   "metadata": {},
   "outputs": [
    {
     "name": "stdout",
     "output_type": "stream",
     "text": [
      "[' 취업을 위한 코딩 테스트다 with <b>파이썬</b> (취업과 이직을 결정하는 알고리즘 인터뷰 완벽 가이드)', '20200805', '나동빈', '8가지 핵심 알고리즘 이론을 쉽게 설명하고, 관련 실전 문제를 풀이했다. 출제 유형 분석, 이론 설명, 기출문제 풀이까지! 어떤 코딩 테스트도 이 책 한 권으로 대비할 수 있을 것이다. 코딩 테스트에서 주로 선택하는 <b>파이썬</b>을 기반으로 설명되어 있으며, <b>파이썬</b> 코드 외에도 C/C++, 자바 코드를 추가로 제공한다.', '한빛미디어', '한빛미디어', '한빛미디어', ' 취업을 위한 코딩 테스트다 with <b>파이썬</b> (취업과 이직을 결정하는 알고리즘 인터뷰 완벽 가이드)']\n"
     ]
    }
   ],
   "source": [
    "print(book_list)"
   ]
  }
 ],
 "metadata": {
  "kernelspec": {
   "display_name": "Python 3",
   "language": "python",
   "name": "python3"
  },
  "language_info": {
   "codemirror_mode": {
    "name": "ipython",
    "version": 3
   },
   "file_extension": ".py",
   "mimetype": "text/x-python",
   "name": "python",
   "nbconvert_exporter": "python",
   "pygments_lexer": "ipython3",
   "version": "3.8.8"
  }
 },
 "nbformat": 4,
 "nbformat_minor": 5
}
