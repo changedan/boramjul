{
 "cells": [
  {
   "cell_type": "markdown",
   "id": "07db001f",
   "metadata": {},
   "source": [
    "# now"
   ]
  },
  {
   "cell_type": "code",
   "execution_count": 56,
   "id": "bd23625d",
   "metadata": {},
   "outputs": [],
   "source": [
    "import requests as req  # requests 라이브러리 불러오기\n",
    "from bs4 import BeautifulSoup as bs # BeautifulSoup 라이브러리 불러오기\n",
    "import pandas as pd\n",
    "\n",
    "# 셀레니움 \n",
    "from selenium import webdriver as wb   # 웹 통제\n",
    "from selenium.webdriver.common.keys import Keys   # 웹에 값을 입력"
   ]
  },
  {
   "cell_type": "code",
   "execution_count": 75,
   "id": "99fc0955",
   "metadata": {},
   "outputs": [],
   "source": [
    "driver = wb.Chrome() ## 드라이버\n",
    "url = 'http://www.kyobobook.co.kr/newproduct/newTopicKorList.laf?pageNumber=1&perPage=50&mallGb=KOR&linkClass=&sortColumn=near_date&newYmw=2021124' ## 교보문고 url\n",
    "driver.get(url) ## 크롬 ==> 웹 페이지 연결\n",
    "soup = bs(driver.page_source, 'lxml') ## 파싱"
   ]
  },
  {
   "cell_type": "code",
   "execution_count": 64,
   "id": "01877c45",
   "metadata": {},
   "outputs": [],
   "source": [
    "book_title = [] ## 책 제목\n",
    "book_date = [] ## 책 출간일\n",
    "#book_author = [] ## 책 저자\n",
    "#book_brief = [] ## 책 요약\n",
    "#book_cat = [] ## 책 카테고리\n",
    "#book_publisher = [] ## 책 출판사\n",
    "#book_pages = [] ## 책 쪽수\n",
    "#book_content = [] ## 책 목차\n",
    "#book_cover = [] ## 책 표지이미지\n",
    "#book_hashtag = [] ## 책 해시태그"
   ]
  },
  {
   "cell_type": "code",
   "execution_count": 82,
   "id": "0cfb4b55",
   "metadata": {},
   "outputs": [
    {
     "name": "stderr",
     "output_type": "stream",
     "text": [
      "<ipython-input-82-c5bf51d52e0b>:1: DeprecationWarning: find_elements_by_* commands are deprecated. Please use find_elements() instead\n",
      "  img = driver.find_elements_by_css_selector('book_image') ## 이미지 select\n",
      "<ipython-input-82-c5bf51d52e0b>:3: DeprecationWarning: find_elements_by_* commands are deprecated. Please use find_elements() instead\n",
      "  img = driver.find_elements_by_css_selector('.table_style12.book_image.img') ## 이미지 select\n"
     ]
    },
    {
     "ename": "IndexError",
     "evalue": "list index out of range",
     "output_type": "error",
     "traceback": [
      "\u001b[1;31m---------------------------------------------------------------------------\u001b[0m",
      "\u001b[1;31mIndexError\u001b[0m                                Traceback (most recent call last)",
      "\u001b[1;32m<ipython-input-82-c5bf51d52e0b>\u001b[0m in \u001b[0;36m<module>\u001b[1;34m\u001b[0m\n\u001b[0;32m      2\u001b[0m \u001b[1;32mfor\u001b[0m \u001b[0mi\u001b[0m \u001b[1;32min\u001b[0m \u001b[0mrange\u001b[0m\u001b[1;33m(\u001b[0m\u001b[1;36m50\u001b[0m\u001b[1;33m)\u001b[0m\u001b[1;33m:\u001b[0m\u001b[1;31m#myroom_contents > div.list_book01.margin_top10 > table > tbody > tr:nth-child(1) > td:nth-child(1) > div > a > img\u001b[0m\u001b[1;33m\u001b[0m\u001b[1;33m\u001b[0m\u001b[0m\n\u001b[0;32m      3\u001b[0m     \u001b[0mimg\u001b[0m \u001b[1;33m=\u001b[0m \u001b[0mdriver\u001b[0m\u001b[1;33m.\u001b[0m\u001b[0mfind_elements_by_css_selector\u001b[0m\u001b[1;33m(\u001b[0m\u001b[1;34m'.table_style12.book_image.img'\u001b[0m\u001b[1;33m)\u001b[0m \u001b[1;31m## 이미지 select\u001b[0m\u001b[1;33m\u001b[0m\u001b[1;33m\u001b[0m\u001b[0m\n\u001b[1;32m----> 4\u001b[1;33m     \u001b[0mimg\u001b[0m\u001b[1;33m[\u001b[0m\u001b[0mi\u001b[0m\u001b[1;33m]\u001b[0m\u001b[1;33m.\u001b[0m\u001b[0mclick\u001b[0m\u001b[1;33m(\u001b[0m\u001b[1;33m)\u001b[0m\u001b[1;33m\u001b[0m\u001b[1;33m\u001b[0m\u001b[0m\n\u001b[0m\u001b[0;32m      5\u001b[0m     \u001b[1;31m#img[i].click() ## 이미지 select 클릭\u001b[0m\u001b[1;33m\u001b[0m\u001b[1;33m\u001b[0m\u001b[1;33m\u001b[0m\u001b[0m\n\u001b[0;32m      6\u001b[0m     \u001b[0mtime\u001b[0m\u001b[1;33m.\u001b[0m\u001b[0msleep\u001b[0m\u001b[1;33m(\u001b[0m\u001b[1;36m0.3\u001b[0m\u001b[1;33m)\u001b[0m \u001b[1;31m## 웹페이지 바뀌는 시간\u001b[0m\u001b[1;33m\u001b[0m\u001b[1;33m\u001b[0m\u001b[0m\n",
      "\u001b[1;31mIndexError\u001b[0m: list index out of range"
     ]
    }
   ],
   "source": [
    "img = driver.find_elements_by_css_selector('book_image') ## 이미지 select\n",
    "for i in range(50):#myroom_contents > div.list_book01.margin_top10 > table > tbody > tr:nth-child(1) > td:nth-child(1) > div > a > img\n",
    "    img = driver.find_elements_by_css_selector('.table_style12.book_image.img') ## 이미지 select\n",
    "    img[i].click()\n",
    "    #img[i].click() ## 이미지 select 클릭\n",
    "    time.sleep(0.3) ## 웹페이지 바뀌는 시간\n",
    "    \n",
    "    soup = bs(driver.page_source, 'lxml') ## 파싱\n",
    "    title = soup.select_one('#container > div:nth-child(4) > form > div.box_detail_point > h1 > strong') ## 제목 css\n",
    "    date = soup.select_one('#container > div:nth-child(4) > form > div.box_detail_point > div.author > span.date') ##\n",
    "    \n",
    "    book_title.append(title) ## 웹\n",
    "    book_date.append(date)\n",
    "    \n",
    "    driver.back()\n",
    "    time.sleep(0.3)\n",
    "               \n",
    "dic = {'책 제목' : book_title, 'book_date' : book_date}\n",
    "df_bookList = pd.DataFrame(dic)\n",
    "df_bookList"
   ]
  },
  {
   "cell_type": "code",
   "execution_count": null,
   "id": "88772d60",
   "metadata": {},
   "outputs": [],
   "source": []
  }
 ],
 "metadata": {
  "kernelspec": {
   "display_name": "Python 3",
   "language": "python",
   "name": "python3"
  },
  "language_info": {
   "codemirror_mode": {
    "name": "ipython",
    "version": 3
   },
   "file_extension": ".py",
   "mimetype": "text/x-python",
   "name": "python",
   "nbconvert_exporter": "python",
   "pygments_lexer": "ipython3",
   "version": "3.8.8"
  }
 },
 "nbformat": 4,
 "nbformat_minor": 5
}
