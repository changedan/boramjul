{
 "cells": [
  {
   "cell_type": "code",
   "execution_count": 1,
   "id": "dae918fe",
   "metadata": {},
   "outputs": [],
   "source": [
    "import requests as req  # requests 라이브러리 불러오기\n",
    "from bs4 import BeautifulSoup as bs # BeautifulSoup 라이브러리 불러오기\n",
    "import pandas as pd\n",
    "from selenium import webdriver as wb   # 웹 통제\n",
    "from selenium.webdriver.common.keys import Keys   # 웹에 값을 입력\n",
    "import time ## time sleep\n",
    "import re ## 정규식 표현 활용 ==> re 라이브러리"
   ]
  },
  {
   "cell_type": "code",
   "execution_count": 2,
   "id": "0aff170a",
   "metadata": {},
   "outputs": [],
   "source": [
    "book_title = [] ## 책 제목\n",
    "book_date = [] ## 책 출간일\n",
    "book_author = [] ## 책 저자\n",
    "book_brief = [] ## 책 요약\n",
    "book_cat = [] ## 책 카테고리\n",
    "book_publisher = [] ## 책 출판사\n",
    "book_pages = [] ## 책 쪽수\n",
    "book_content = [] ## 책 목차\n",
    "book_cover = [] ## 책 표지이미지\n",
    "book_hashtag = [] ## 책 해시태그"
   ]
  },
  {
   "cell_type": "markdown",
   "id": "a23dd2ae",
   "metadata": {},
   "source": [
    "# test"
   ]
  },
  {
   "cell_type": "code",
   "execution_count": 3,
   "id": "2c54bc3c",
   "metadata": {},
   "outputs": [
    {
     "name": "stderr",
     "output_type": "stream",
     "text": [
      "<ipython-input-3-f2f98f8d471c>:6: DeprecationWarning: find_elements_by_* commands are deprecated. Please use find_elements() instead\n",
      "  ck = driver.find_elements_by_css_selector('.cover a img') ## 이미지 select\n",
      "<ipython-input-3-f2f98f8d471c>:9: DeprecationWarning: find_elements_by_* commands are deprecated. Please use find_elements() instead\n",
      "  ck = driver.find_elements_by_css_selector('.cover a img') ## 이미지 select\n"
     ]
    },
    {
     "ename": "AttributeError",
     "evalue": "'NoneType' object has no attribute 'text'",
     "output_type": "error",
     "traceback": [
      "\u001b[1;31m---------------------------------------------------------------------------\u001b[0m",
      "\u001b[1;31mAttributeError\u001b[0m                            Traceback (most recent call last)",
      "\u001b[1;32m<ipython-input-3-f2f98f8d471c>\u001b[0m in \u001b[0;36m<module>\u001b[1;34m\u001b[0m\n\u001b[0;32m     23\u001b[0m     \u001b[1;31m## [??] 해시태그 사이 ','\u001b[0m\u001b[1;33m\u001b[0m\u001b[1;33m\u001b[0m\u001b[1;33m\u001b[0m\u001b[0m\n\u001b[0;32m     24\u001b[0m     \u001b[0mhashtag\u001b[0m \u001b[1;33m=\u001b[0m \u001b[0msoup\u001b[0m\u001b[1;33m.\u001b[0m\u001b[0mselect_one\u001b[0m\u001b[1;33m(\u001b[0m\u001b[1;34m'#container > div:nth-child(4) > form > div.box_detail_info > div.box_detail_keywordpick > div.book_keyword > a'\u001b[0m\u001b[1;33m)\u001b[0m \u001b[1;31m## 해시태그 css\u001b[0m\u001b[1;33m\u001b[0m\u001b[1;33m\u001b[0m\u001b[0m\n\u001b[1;32m---> 25\u001b[1;33m     \u001b[0mbook_title\u001b[0m\u001b[1;33m.\u001b[0m\u001b[0mappend\u001b[0m\u001b[1;33m(\u001b[0m\u001b[0mtitle\u001b[0m\u001b[1;33m.\u001b[0m\u001b[0mtext\u001b[0m\u001b[1;33m)\u001b[0m \u001b[1;31m## 책 제목 append\u001b[0m\u001b[1;33m\u001b[0m\u001b[1;33m\u001b[0m\u001b[0m\n\u001b[0m\u001b[0;32m     26\u001b[0m     \u001b[0mbook_date\u001b[0m\u001b[1;33m.\u001b[0m\u001b[0mappend\u001b[0m\u001b[1;33m(\u001b[0m\u001b[0mdate\u001b[0m\u001b[1;33m.\u001b[0m\u001b[0mtext\u001b[0m\u001b[1;33m)\u001b[0m \u001b[1;31m## 책 출간일 append\u001b[0m\u001b[1;33m\u001b[0m\u001b[1;33m\u001b[0m\u001b[0m\n\u001b[0;32m     27\u001b[0m     \u001b[0mbook_author\u001b[0m\u001b[1;33m.\u001b[0m\u001b[0mappend\u001b[0m\u001b[1;33m(\u001b[0m\u001b[0mauthor\u001b[0m\u001b[1;33m.\u001b[0m\u001b[0mtext\u001b[0m\u001b[1;33m)\u001b[0m \u001b[1;31m## 책 저자\u001b[0m\u001b[1;33m\u001b[0m\u001b[1;33m\u001b[0m\u001b[0m\n",
      "\u001b[1;31mAttributeError\u001b[0m: 'NoneType' object has no attribute 'text'"
     ]
    }
   ],
   "source": [
    "driver = wb.Chrome() ## 드라이버\n",
    "url = 'http://www.kyobobook.co.kr/bestSellerNew/bestseller.laf' ## 교보문고 url\n",
    "driver.get(url) ## 크롬 ==> 웹 페이지 연결\n",
    "soup = bs(driver.page_source, 'lxml') ## 파싱\n",
    "\n",
    "ck = driver.find_elements_by_css_selector('.cover a img') ## 이미지 select\n",
    "\n",
    "for i in range(1):\n",
    "    ck = driver.find_elements_by_css_selector('.cover a img') ## 이미지 select\n",
    "    ck[i].click() ## 이미지 select 클릭\n",
    "    time.sleep(0.3) ## 웹페이지 바뀌는 시간\n",
    "    soup = bs(driver.page_source, 'lxml') ## 파싱\n",
    "    title = soup.select_one('h1.title > stronsg') ## 제목 css\n",
    "    date = soup.select_one('div.author > span.date') ## 출간일 css\n",
    "    author = soup.select_one('#container > div:nth-child(4) > form > div.box_detail_point > div.author > span:nth-child(1)') ## 저자 css\n",
    "    brief = soup.select_one('div.box_detail_article') ## 요약 css\n",
    "    cat = soup.select_one('#container > div:nth-child(7) > div.content_left > div:nth-child(5) > ul > li > a:nth-child(1)') ## 카테고리 css\n",
    "    publisher = soup.select_one('div.author > span.name') ## 출판사 css\n",
    "    pages = soup.select_one('#container > div:nth-child(7) > div.content_left > div:nth-child(5) > table > tbody > tr:nth-child(2) > td') ## 쪽수 css\n",
    "    content = soup.select_one('#container > div:nth-child(7) > div.content_left > div:nth-child(5) > div:nth-child(17)') ## 목차 css\n",
    "    ## [??] src 속성 ==> url만 가져오기\n",
    "    #cover = soup.select_one('#container > div:nth-child(4) > form > div.box_detail_info > div.box_detail_cover > div > a > img') ## 표지이미지 css\n",
    "    ## [??] 해시태그 사이 ','\n",
    "    hashtag = soup.select_one('#container > div:nth-child(4) > form > div.box_detail_info > div.box_detail_keywordpick > div.book_keyword > a') ## 해시태그 css \n",
    "    book_title.append(title.text) ## 책 제목 append\n",
    "    book_date.append(date.text) ## 책 출간일 append\n",
    "    book_author.append(author.text) ## 책 저자\n",
    "    book_brief.append(brief.text) ## 책 요약\n",
    "    book_cat.append(cat.text) ## 책 카테고리\n",
    "    book_publisher.append(publisher.text) ## 책 출판사\n",
    "    book_pages.append(pages.text) ## 책 쪽수\n",
    "    book_content.append(content.text) ## 책 목차\n",
    "    #book_cover.append(cover.text) ## 책 표지이미지\n",
    "    book_hashtag.append(hashtag.text) ## 책 해시태그\n",
    "    driver.back() # 뒤로가기\n",
    "    time.sleep(0.3)"
   ]
  },
  {
   "cell_type": "code",
   "execution_count": null,
   "id": "20f32ad4",
   "metadata": {},
   "outputs": [],
   "source": [
    "print(book_title)\n",
    "print(book_date)\n",
    "print(book_author)\n",
    "print(book_brief)\n",
    "print(book_cat)\n",
    "print(book_publisher)\n",
    "print(book_pages)\n",
    "print(book_content)\n",
    "#print(book_cover)\n",
    "print(book_hashtag)"
   ]
  },
  {
   "cell_type": "code",
   "execution_count": null,
   "id": "2acba00d",
   "metadata": {},
   "outputs": [],
   "source": [
    "book_title1 = [] ## 책 제목1\n",
    "book_title2 = [] ## 책 제목2\n",
    "book_date1 = [] ## 책 출간일1\n",
    "book_date2 = [] ## 책 출간일2\n",
    "book_author1 = [] ## 책 저자1\n",
    "book_author2 = [] ## 책 저자2\n",
    "book_brief1 = [] ## 책 요약1\n",
    "book_brief2 = [] ## 책 요약2\n",
    "book_cat1 = [] ## 책 카테고리1\n",
    "book_cat2 = [] ## 책 카테고리2\n",
    "book_publisher1 = [] ## 책 출판사1\n",
    "book_publisher2 = [] ## 책 출판사2\n",
    "book_pages1 = [] ## 책 쪽수1\n",
    "book_pages2 = [] ## 책 쪽수2\n",
    "book_content1 = [] ## 책 목차1\n",
    "book_content2 = [] ## 책 목차2\n",
    "book_cover1 = [] ## 책 표지이미지1\n",
    "book_cover2 = [] ## 책 표지이미지2\n",
    "book_hashtag1 = [] ## 책 해시태그1\n",
    "book_hashtag2 = [] ## 책 해시태그2"
   ]
  },
  {
   "cell_type": "code",
   "execution_count": null,
   "id": "2d5433b4",
   "metadata": {},
   "outputs": [],
   "source": [
    "print(book_title)"
   ]
  },
  {
   "cell_type": "markdown",
   "id": "19eb33e7",
   "metadata": {},
   "source": [
    "# 특정 문자 삭제"
   ]
  },
  {
   "cell_type": "code",
   "execution_count": null,
   "id": "c24c23f0",
   "metadata": {},
   "outputs": [],
   "source": [
    "for i in book_title: ## 책 제목\n",
    "    temp_n = i.replace(\"\\n\", \"\") ## \"\\n\" 제거\n",
    "    book_title1.append(temp_n) ## 리스트1 추가\n",
    "    book_title.clear() ## 리스트 초기화\n",
    "    temp_t = i.replace(\"\\t\", \"\") ## \"\\t\" 제거\n",
    "    book_title.append(temp_t) ## 리스트 추가\n",
    "print(book_title)"
   ]
  },
  {
   "cell_type": "code",
   "execution_count": null,
   "id": "0086120c",
   "metadata": {},
   "outputs": [],
   "source": [
    "for i in book_title: ## 책 제목\n",
    "    temp_n = i.replace(\"\\n\", \"\") ## \"\\n\" 제거\n",
    "    book_title1.append(temp_n) ## 리스트1 추가\n",
    "for i in book_title1: ## 책 제목1\n",
    "    temp_t = i.replace(\"\\t\", \"\") ## \"\\t\" 제거\n",
    "    book_title.clear() ## 리스트 초기화\n",
    "    book_title.append(temp_t) ## 리스트 추가\n",
    "    \n",
    "for i in book_date: ## 책 출간일\n",
    "    temp_n = i.replace(\"\\n\", \"\") ## \"\\n\" 제거\n",
    "    book_date1.append(temp_n) ## 리스트 추가\n",
    "for i in book_date1: ## 책 출간일1\n",
    "    temp_t = i.replace(\"\\t\", \"\") ## \"\\t\" 제거\n",
    "    book_date2.append(temp_t) ## 리스트 추가\n",
    "for i in book_date2: ## 책 출간일2\n",
    "    temp_date = i.replace(\" 출간\", \"\") ## \"\\t\" 제거\n",
    "    book_date.clear() ## 리스트 초기화\n",
    "    book_date.append(temp_t) ## 리스트 추가\n",
    "\n",
    "for i in book_author: # 책 저자\n",
    "    temp_n = i.replace(\"\\n\", \"\") ## \"\\n\" 제거\n",
    "    book_author1.append(temp_n) ## 리스트 추가\n",
    "for i in book_author1: # 책 저자\n",
    "    temp_t = i.replace(\"\\t\", \"\") ## \"\\t\" 제거\n",
    "    book_author.clear() ## 리스트 초기화\n",
    "    book_author.append(temp_t) ## 리스트 추가\n",
    "    \n",
    "for i in book_brief: # 책 요약\n",
    "    temp_n = i.replace(\"\\n\", \"\") ## \"\\n\" 제거\n",
    "    book_brief1.append(temp_n) ## 리스트 추가\n",
    "for i in book_brief1: # 책 요약\n",
    "    temp_t = i.replace(\"\\t\", \"\") ## \"\\t\" 제거\n",
    "    book_brief.clear() ## 리스트 초기화\n",
    "    book_brief.append(temp_t) ## 리스트 추가\n",
    "    \n",
    "for i in book_cat: # 책 카테고리\n",
    "    temp_n = i.replace(\"\\n\", \"\") ## \"\\n\" 제거\n",
    "    book_cat1.append(temp_n) ## 리스트 추가\n",
    "    temp_t = i.replace(\"\\t\", \"\") ## \"\\t\" 제거\n",
    "    book_cat.clear() ## 리스트 초기화\n",
    "    book_cat.append(temp_t) ## 리스트 추가\n",
    "    \n",
    "print(book_title)\n",
    "print(book_date)\n",
    "print(book_author)\n",
    "print(book_brief)\n",
    "print(book_cat)\n",
    "print(book_publisher)\n",
    "print(book_pages)\n",
    "print(book_content)\n",
    "#print(book_cover)\n",
    "print(book_hashtag)"
   ]
  },
  {
   "cell_type": "markdown",
   "id": "864491bc",
   "metadata": {},
   "source": [
    "# df"
   ]
  },
  {
   "cell_type": "code",
   "execution_count": null,
   "id": "f6bc5ce2",
   "metadata": {},
   "outputs": [],
   "source": [
    "di1 = {'책 제목' : book_title,'책 출간일' : book_date}\n",
    "df = pd.DataFrame(di1)\n",
    "df"
   ]
  },
  {
   "cell_type": "code",
   "execution_count": null,
   "id": "ee0ed38e",
   "metadata": {},
   "outputs": [],
   "source": [
    "df"
   ]
  },
  {
   "cell_type": "markdown",
   "id": "d46e0957",
   "metadata": {},
   "source": [
    "# 리스트 초기화"
   ]
  },
  {
   "cell_type": "code",
   "execution_count": null,
   "id": "da1bc425",
   "metadata": {
    "scrolled": false
   },
   "outputs": [],
   "source": [
    "book_title.clear() ## 책 제목\n",
    "book_date.clear() ## 책 출간일\n",
    "book_author.clear() ## 책 저자\n",
    "book_brief.clear() ## 책 요약\n",
    "book_cat.clear() ## 책 카테고리\n",
    "book_publisher.clear() ## 책 출판사\n",
    "book_pages.clear() ## 책 쪽수\n",
    "book_content.clear() ## 책 목차\n",
    "book_cover.clear() ## 책 표지이미지\n",
    "book_hashtag.clear() ## 책 해시태그"
   ]
  },
  {
   "cell_type": "code",
   "execution_count": null,
   "id": "a06f711e",
   "metadata": {},
   "outputs": [],
   "source": [
    "print(book_title)\n",
    "print(book_date)\n",
    "print(book_author)\n",
    "print(book_brief)\n",
    "print(book_cat)\n",
    "print(book_publisher)\n",
    "print(book_pages)\n",
    "print(book_content)\n",
    "print(book_cover)\n",
    "print(book_hashtag)"
   ]
  },
  {
   "cell_type": "code",
   "execution_count": null,
   "id": "8a9b2c80",
   "metadata": {},
   "outputs": [],
   "source": []
  }
 ],
 "metadata": {
  "kernelspec": {
   "display_name": "Python 3",
   "language": "python",
   "name": "python3"
  },
  "language_info": {
   "codemirror_mode": {
    "name": "ipython",
    "version": 3
   },
   "file_extension": ".py",
   "mimetype": "text/x-python",
   "name": "python",
   "nbconvert_exporter": "python",
   "pygments_lexer": "ipython3",
   "version": "3.8.8"
  }
 },
 "nbformat": 4,
 "nbformat_minor": 5
}
