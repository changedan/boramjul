{
 "cells": [
  {
   "cell_type": "markdown",
   "id": "4518e018",
   "metadata": {},
   "source": [
    "# 관련 뉴스 기사 크롤링"
   ]
  },
  {
   "cell_type": "code",
   "execution_count": 56,
   "id": "574016a0",
   "metadata": {
    "scrolled": true
   },
   "outputs": [
    {
     "name": "stdout",
     "output_type": "stream",
     "text": [
      "{\n",
      "\"lastBuildDate\": \"Tue, 28 Dec 2021 16:25:57 +0900\",\n",
      "\"total\": 2510,\n",
      "\"start\": 1,\n",
      "\"display\": 5,\n",
      "\"items\": [\n",
      "{\n",
      "\"title\": \"한여름 괴담에서 태어난 ‘피조물’이 괴물이 되기까지\",\n",
      "\"originallink\": \"https://www.khan.co.kr/culture/performance/article/202112242039005\",\n",
      "\"link\": \"https://news.naver.com/main/read.naver?mode=LSD&mid=sec&sid1=103&oid=032&aid=0003118500\",\n",
      "\"description\": \"그는 익명으로 소설 &lt;<b>프랑켄슈타인</b>&gt;을 세상에 공개한다. ■작가의 자전적 이야기? <b>메리 셸리</b>의 악몽에서 시작한 소설은 단순한 괴물 얘기 아냐 외로운 탄생·소외·상실 담아내 <b>메리</b>는 1797년 영국에서 태어났다. 아버지는... \",\n",
      "\"pubDate\": \"Fri, 24 Dec 2021 20:40:00 +0900\"\n",
      "\n",
      "},\n",
      "{\n",
      "\"title\": \"[티켓 박스] 연말 공연 풍년…발레부터 뮤지컬까지 '뭐 볼까?'\",\n",
      "\"originallink\": \"https://www.etoday.co.kr/news/view/2089960\",\n",
      "\"link\": \"https://www.etoday.co.kr/news/view/2089960\",\n",
      "\"description\": \"'<b>프랑켄슈타인</b>'은 1818년 출간된 <b>메리 셸리</b>의 소설을 원작으로, 신이 되려 했던 인간과 인간을 동경했던 피조물, 두 남자의 이야기를 통해 인간의 이기심과 생명의 본질 등을 다시 생각해 보게 하는 작품이다.... \",\n",
      "\"pubDate\": \"Fri, 24 Dec 2021 06:02:00 +0900\"\n",
      "\n",
      "},\n",
      "{\n",
      "\"title\": \"3시간 내내 객석 압도..한 번 맛보면 또 찾는 '마라맛' 뮤지컬\",\n",
      "\"originallink\": \"http://www.edaily.co.kr/news/newspath.asp?newsid=01108646629281472\",\n",
      "\"link\": \"https://news.naver.com/main/read.naver?mode=LSD&mid=sec&sid1=103&oid=018&aid=0005112176\",\n",
      "\"description\": \"뮤지컬 ‘<b>프랑켄슈타인</b>’ 공연 장면(사진=뉴컨텐츠컴퍼니)<b>메리 셸리</b>의 동명 소설이 원작인 ‘<b>프랑켄슈타인</b>’은 과학자 빅터 <b>프랑켄슈타인</b>이 전쟁에서 죽지 않는 군인에 대한 연구를 진행하던 중 앙리 뒤프레를 만나면서... \",\n",
      "\"pubDate\": \"Thu, 23 Dec 2021 05:31:00 +0900\"\n",
      "\n",
      "},\n",
      "{\n",
      "\"title\": \"공포·로맨스의 결합… '고딕 소설'의 베스트셀러를 다시 본다​\",\n",
      "\"originallink\": \"https://health.chosun.com/site/data/html_dir/2021/12/22/2021122201513.html\",\n",
      "\"link\": \"https://news.naver.com/main/read.naver?mode=LSD&mid=sec&sid1=103&oid=346&aid=0000046910\",\n",
      "\"description\": \"‘<b>프랑켄슈타인</b>’ 작가 <b>메리 셸리</b>의 단편 수록 1인 출판사 ‘고딕서가’는 가능하다고 봤다. 고딕 소설 대가들의 작품을 깔끔하고도 깊이 있는 번역으로 최근 잇달아 출간했다. 하나는 ‘<b>프랑켄슈타인</b>’의 작가 <b>메리</b>... \",\n",
      "\"pubDate\": \"Wed, 22 Dec 2021 15:07:00 +0900\"\n",
      "\n",
      "},\n",
      "{\n",
      "\"title\": \"[리뷰] ①기대 모은 뮤지컬 <b>프랑켄슈타인</b>···웰메이드 속 아쉬운 '옥의 티'\",\n",
      "\"originallink\": \"https://www.facten.co.kr/news/articleView.html?idxno=208894\",\n",
      "\"link\": \"https://www.facten.co.kr/news/articleView.html?idxno=208894\",\n",
      "\"description\": \"뮤지컬 '<b>프랑켄슈타인</b>'은 <b>메리셸리</b> 원작 소설의 수많은 각색 중 하나로 어린 나이에 어머니 죽음을 목도한 천재 빅터의 이야기로 시작한다. 흑사병으로 까맣게 변한 어머니 시신에 집착해 실험까지 자행한 빅터는 마녀... \",\n",
      "\"pubDate\": \"Sat, 18 Dec 2021 16:02:00 +0900\"\n",
      "\n",
      "}\n",
      "]\n",
      "}\n",
      "\n"
     ]
    }
   ],
   "source": [
    "import os\n",
    "import sys\n",
    "import urllib.request\n",
    "client_id = \"3wU5xwXfFVL4LweQzLHQ\"\n",
    "client_secret = \"K60NkftSAH\"\n",
    "encText = urllib.parse.quote(\"프랑켄슈타인 메리셸리\")\n",
    "url = \"https://openapi.naver.com/v1/search/news?query=\" + encText + \"&display=5\" # json 결과\n",
    "# url = \"https://openapi.naver.com/v1/search/blog.xml?query=\" + encText # xml 결과\n",
    "request = urllib.request.Request(url)\n",
    "request.add_header(\"X-Naver-Client-Id\",client_id)\n",
    "request.add_header(\"X-Naver-Client-Secret\",client_secret)\n",
    "response = urllib.request.urlopen(request)\n",
    "rescode = response.getcode()\n",
    "news={}\n",
    "if(rescode==200):\n",
    "    response_body = response.read()\n",
    "    print(response_body.decode('utf-8'))\n",
    "    news=response_body.decode('utf-8')\n",
    "else:\n",
    "    print(\"Error Code:\" + rescode)"
   ]
  },
  {
   "cell_type": "markdown",
   "id": "f87c9438",
   "metadata": {},
   "source": [
    "# 불필요한 문자&태그 삭제 "
   ]
  },
  {
   "cell_type": "code",
   "execution_count": 57,
   "id": "a2843b66",
   "metadata": {},
   "outputs": [],
   "source": [
    "news=news.replace(\"</b>\",\"\")\n",
    "news=news.replace(\"<b>\",\"\")\n",
    "news=news.replace(\"&lt;\",\"\")\n",
    "news=news.replace(\"&gt;\",\"\")\n",
    "news=news.replace(\"&quot;\",\"\")\n",
    "news=news.replace(\"\\xa0\",\"\")"
   ]
  },
  {
   "cell_type": "markdown",
   "id": "cd76dc07",
   "metadata": {},
   "source": [
    "# 뉴스 기사 데이터프레임 "
   ]
  },
  {
   "cell_type": "code",
   "execution_count": 58,
   "id": "59217494",
   "metadata": {},
   "outputs": [],
   "source": [
    "import json\n",
    "from bs4 import BeautifulSoup as bs\n",
    "import pandas as pd\n",
    "from urllib.request import urlretrieve"
   ]
  },
  {
   "cell_type": "code",
   "execution_count": 59,
   "id": "17d06811",
   "metadata": {},
   "outputs": [],
   "source": [
    "news_list=json.loads(news)"
   ]
  },
  {
   "cell_type": "code",
   "execution_count": 61,
   "id": "988b9f89",
   "metadata": {},
   "outputs": [],
   "source": [
    "news_table=pd.DataFrame(news_list['items'],columns=['title','originallink','description'])"
   ]
  },
  {
   "cell_type": "code",
   "execution_count": 62,
   "id": "4f96657c",
   "metadata": {
    "scrolled": true
   },
   "outputs": [
    {
     "data": {
      "text/html": [
       "<div>\n",
       "<style scoped>\n",
       "    .dataframe tbody tr th:only-of-type {\n",
       "        vertical-align: middle;\n",
       "    }\n",
       "\n",
       "    .dataframe tbody tr th {\n",
       "        vertical-align: top;\n",
       "    }\n",
       "\n",
       "    .dataframe thead th {\n",
       "        text-align: right;\n",
       "    }\n",
       "</style>\n",
       "<table border=\"1\" class=\"dataframe\">\n",
       "  <thead>\n",
       "    <tr style=\"text-align: right;\">\n",
       "      <th></th>\n",
       "      <th>title</th>\n",
       "      <th>originallink</th>\n",
       "      <th>description</th>\n",
       "    </tr>\n",
       "  </thead>\n",
       "  <tbody>\n",
       "    <tr>\n",
       "      <th>0</th>\n",
       "      <td>한여름 괴담에서 태어난 ‘피조물’이 괴물이 되기까지</td>\n",
       "      <td>https://www.khan.co.kr/culture/performance/art...</td>\n",
       "      <td>그는 익명으로 소설 프랑켄슈타인을 세상에 공개한다. ■작가의 자전적 이야기? 메리 ...</td>\n",
       "    </tr>\n",
       "    <tr>\n",
       "      <th>1</th>\n",
       "      <td>[티켓 박스] 연말 공연 풍년…발레부터 뮤지컬까지 '뭐 볼까?'</td>\n",
       "      <td>https://www.etoday.co.kr/news/view/2089960</td>\n",
       "      <td>'프랑켄슈타인'은 1818년 출간된 메리 셸리의 소설을 원작으로, 신이 되려 했던 ...</td>\n",
       "    </tr>\n",
       "    <tr>\n",
       "      <th>2</th>\n",
       "      <td>3시간 내내 객석 압도..한 번 맛보면 또 찾는 '마라맛' 뮤지컬</td>\n",
       "      <td>http://www.edaily.co.kr/news/newspath.asp?news...</td>\n",
       "      <td>뮤지컬 ‘프랑켄슈타인’ 공연 장면(사진=뉴컨텐츠컴퍼니)메리 셸리의 동명 소설이 원작...</td>\n",
       "    </tr>\n",
       "    <tr>\n",
       "      <th>3</th>\n",
       "      <td>공포·로맨스의 결합… '고딕 소설'의 베스트셀러를 다시 본다​</td>\n",
       "      <td>https://health.chosun.com/site/data/html_dir/2...</td>\n",
       "      <td>‘프랑켄슈타인’ 작가 메리 셸리의 단편 수록 1인 출판사 ‘고딕서가’는 가능하다고 ...</td>\n",
       "    </tr>\n",
       "    <tr>\n",
       "      <th>4</th>\n",
       "      <td>[리뷰] ①기대 모은 뮤지컬 프랑켄슈타인···웰메이드 속 아쉬운 '옥의 티'</td>\n",
       "      <td>https://www.facten.co.kr/news/articleView.html...</td>\n",
       "      <td>뮤지컬 '프랑켄슈타인'은 메리셸리 원작 소설의 수많은 각색 중 하나로 어린 나이에 ...</td>\n",
       "    </tr>\n",
       "  </tbody>\n",
       "</table>\n",
       "</div>"
      ],
      "text/plain": [
       "                                        title  \\\n",
       "0                한여름 괴담에서 태어난 ‘피조물’이 괴물이 되기까지   \n",
       "1         [티켓 박스] 연말 공연 풍년…발레부터 뮤지컬까지 '뭐 볼까?'   \n",
       "2        3시간 내내 객석 압도..한 번 맛보면 또 찾는 '마라맛' 뮤지컬   \n",
       "3          공포·로맨스의 결합… '고딕 소설'의 베스트셀러를 다시 본다​   \n",
       "4  [리뷰] ①기대 모은 뮤지컬 프랑켄슈타인···웰메이드 속 아쉬운 '옥의 티'   \n",
       "\n",
       "                                        originallink  \\\n",
       "0  https://www.khan.co.kr/culture/performance/art...   \n",
       "1         https://www.etoday.co.kr/news/view/2089960   \n",
       "2  http://www.edaily.co.kr/news/newspath.asp?news...   \n",
       "3  https://health.chosun.com/site/data/html_dir/2...   \n",
       "4  https://www.facten.co.kr/news/articleView.html...   \n",
       "\n",
       "                                         description  \n",
       "0  그는 익명으로 소설 프랑켄슈타인을 세상에 공개한다. ■작가의 자전적 이야기? 메리 ...  \n",
       "1  '프랑켄슈타인'은 1818년 출간된 메리 셸리의 소설을 원작으로, 신이 되려 했던 ...  \n",
       "2  뮤지컬 ‘프랑켄슈타인’ 공연 장면(사진=뉴컨텐츠컴퍼니)메리 셸리의 동명 소설이 원작...  \n",
       "3  ‘프랑켄슈타인’ 작가 메리 셸리의 단편 수록 1인 출판사 ‘고딕서가’는 가능하다고 ...  \n",
       "4  뮤지컬 '프랑켄슈타인'은 메리셸리 원작 소설의 수많은 각색 중 하나로 어린 나이에 ...  "
      ]
     },
     "execution_count": 62,
     "metadata": {},
     "output_type": "execute_result"
    }
   ],
   "source": [
    "news_table"
   ]
  },
  {
   "cell_type": "code",
   "execution_count": 63,
   "id": "d33e6708",
   "metadata": {},
   "outputs": [],
   "source": [
    "news_table.to_excel('news.xlsx')"
   ]
  },
  {
   "cell_type": "markdown",
   "id": "296b8524",
   "metadata": {},
   "source": [
    "# 뉴스 기사 이미지 크롤링"
   ]
  },
  {
   "cell_type": "code",
   "execution_count": 64,
   "id": "c384111e",
   "metadata": {},
   "outputs": [],
   "source": [
    "from selenium import webdriver as wb\n",
    "from selenium.webdriver.common.keys import Keys"
   ]
  },
  {
   "cell_type": "code",
   "execution_count": 65,
   "id": "634a5ea9",
   "metadata": {},
   "outputs": [],
   "source": [
    "driver=wb.Chrome()\n",
    "url=\"https://search.naver.com/search.naver?where=news&query=\"+encText+\"&sm=tab_opt&sort=1&photo=0&field=0&pd=0&ds=&de=&docid=&related=0&mynews=0&office_type=0&office_section_code=0&news_office_checked=&nso=so%3Add%2Cp%3Aall&is_sug_officeid=0\"\n",
    "driver.get(url)"
   ]
  },
  {
   "cell_type": "code",
   "execution_count": 66,
   "id": "97db8f41",
   "metadata": {
    "scrolled": true
   },
   "outputs": [],
   "source": [
    "soup=bs(driver.page_source, 'lxml')"
   ]
  },
  {
   "cell_type": "code",
   "execution_count": 67,
   "id": "025f3847",
   "metadata": {
    "scrolled": true
   },
   "outputs": [],
   "source": [
    "img=soup.select(\"a.dsc_thumb\")"
   ]
  },
  {
   "cell_type": "markdown",
   "id": "d59dd667",
   "metadata": {},
   "source": [
    "# 이미지 소스 저장"
   ]
  },
  {
   "cell_type": "code",
   "execution_count": 68,
   "id": "933c1ca2",
   "metadata": {},
   "outputs": [],
   "source": [
    "img_src=[]"
   ]
  },
  {
   "cell_type": "code",
   "execution_count": 69,
   "id": "d028d772",
   "metadata": {},
   "outputs": [],
   "source": [
    "for i in range(5):\n",
    "    img_src.append(img[i].img['src'])"
   ]
  },
  {
   "cell_type": "code",
   "execution_count": null,
   "id": "b038d9b1",
   "metadata": {},
   "outputs": [],
   "source": []
  }
 ],
 "metadata": {
  "kernelspec": {
   "display_name": "Python 3",
   "language": "python",
   "name": "python3"
  },
  "language_info": {
   "codemirror_mode": {
    "name": "ipython",
    "version": 3
   },
   "file_extension": ".py",
   "mimetype": "text/x-python",
   "name": "python",
   "nbconvert_exporter": "python",
   "pygments_lexer": "ipython3",
   "version": "3.8.8"
  }
 },
 "nbformat": 4,
 "nbformat_minor": 5
}
