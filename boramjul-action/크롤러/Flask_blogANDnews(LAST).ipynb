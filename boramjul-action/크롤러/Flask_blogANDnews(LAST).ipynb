{
 "cells": [
  {
   "cell_type": "markdown",
   "id": "f611b35a",
   "metadata": {},
   "source": [
    "## 다운로드"
   ]
  },
  {
   "cell_type": "code",
   "execution_count": null,
   "id": "371cc88e",
   "metadata": {},
   "outputs": [],
   "source": [
    "# flask 다운로드\n",
    "!pip install flask\n",
    "# flask cors 다운로드\n",
    "!pip install flask_cors"
   ]
  },
  {
   "cell_type": "markdown",
   "id": "25d1f3e7",
   "metadata": {},
   "source": [
    "## import"
   ]
  },
  {
   "cell_type": "code",
   "execution_count": 1,
   "id": "51d373d8",
   "metadata": {},
   "outputs": [],
   "source": [
    "import os\n",
    "import sys\n",
    "import urllib.request\n",
    "import json\n",
    "import pandas as pd\n",
    "## <!-- Flask import -->\n",
    "from flask import Flask, redirect, request\n",
    "from flask_cors import CORS, cross_origin\n",
    "## <!-- API key -->\n",
    "client_id = \"3wU5xwXfFVL4LweQzLHQ\"\n",
    "client_secret = \"K60NkftSAH\""
   ]
  },
  {
   "cell_type": "markdown",
   "id": "0a4c7a7d",
   "metadata": {},
   "source": [
    "# Flask"
   ]
  },
  {
   "cell_type": "code",
   "execution_count": null,
   "id": "ca4f553f",
   "metadata": {
    "scrolled": true
   },
   "outputs": [
    {
     "name": "stdout",
     "output_type": "stream",
     "text": [
      " * Serving Flask app \"__main__\" (lazy loading)\n",
      " * Environment: production\n",
      "   WARNING: This is a development server. Do not use it in a production deployment.\n",
      "   Use a production WSGI server instead.\n",
      " * Debug mode: off\n"
     ]
    },
    {
     "name": "stderr",
     "output_type": "stream",
     "text": [
      " * Running on http://172.30.1.51:5021/ (Press CTRL+C to quit)\n"
     ]
    },
    {
     "name": "stdout",
     "output_type": "stream",
     "text": [
      "불편한 편의점(15만부 기념 윈터 에디션) 불편한 편의점(15만부 기념 윈터 에디션)\n"
     ]
    },
    {
     "name": "stderr",
     "output_type": "stream",
     "text": [
      "172.30.1.51 - - [31/Dec/2021 19:45:42] \"\u001b[37mGET /?title=불편한%20편의점(15만부%20기념%20윈터%20에디션)&author=불편한%20편의점(15만부%20기념%20윈터%20에디션) HTTP/1.1\u001b[0m\" 200 -\n"
     ]
    },
    {
     "name": "stdout",
     "output_type": "stream",
     "text": [
      "{'blog': [{'title': '[<b>불편한 편의점</b>]  ALWAYS', 'link': 'https://blog.naver.com/winmoon2?Redirect=Log&logNo=222604561229', 'description': '<b>불편한 편의점</b> 저자 김호연 출판 나무옆의자 발매 2021.04.20. 블편한 <b>편의점</b> 김호연 나무옆의자 내가 받은 책선물은 <b>15만부 기념 윈터 에디션</b> 인듯.. 눈모양의 결정이며, 겉 표지에 오로라가 보인다. ㅋㅋㅋ 한번... '}, {'title': '2021년 12월에 구입한 책 - 6 &lt;<b>불편한 편의점</b>&gt;', 'link': 'https://blog.naver.com/here-now-lee?Redirect=Log&logNo=222602919713', 'description': '#<b>불편한편의점</b> #김호연 #<b>15만부기념윈터에디션</b> #2021년올해의책 한동안, 아니 지금도 여전히 베스트셀러 리스트 안에 들어가 있는 책이다. &lt;달러구트 꿈 백화점&gt;을 읽으면서 이 책을 보고 싶다 생각은 했지만... '}, {'title': '[책 추천] <b>불편한 편의점</b>', 'link': 'https://blog.naver.com/chacari1480?Redirect=Log&logNo=222589188459', 'description': '힘겨운 시대를 살아가는 우리들에게 다가온 조금 특별한 <b>편의점</b> 이야기 &lt;<b>불편한 편의점</b>&gt; <b>15만부 기념</b> 한정판 <b>윈터 에디션</b> 출간! 2021년 4월에 출간되어 15만이 넘는 독자의 뜨거운 사랑을 받고 있는 소설 ! 청파동... '}], 'news': [{'title': \"[베스트셀러] 새해 맞이 '하루를 48시간으로 사는 마법' 순위 상승\", 'link': 'http://www.chungnamilbo.co.kr/news/articleView.html?idxno=640734', 'description': '<b>불편한 편의점(15만부 기념 윈터 에디션)</b>/김호연/나무옆의자/소설 2. 트렌드 코리아 2022/김난도/미래의창/경제/경영 3. 흔한남매. 9(양장본 HardCover)/흔한남매(원작)/미래엔아이세움/아동 4. 소크라테스 익스프레스... '}, {'title': '(주간베스트셀러)연말연시 새 디자인 커버가 뜬다', 'link': 'http://www.newstomato.com/ReadNews.aspx?no=1096791&inflow=N', 'description': '뉴스토마토 = 권익도 기자 | \\xa0연말연시를 <b>기념</b>해 책 커버를 새롭게 단장한 책들이 재차 순위가 상승하며 인기몰이를 하고 있다. 22~28일 인터파크도서 종합베스트셀러 집계에 따르면 ‘<b>불편한 편의점</b>’ <b>윈터 에디션</b>... '}, {'title': \"[베스트셀러] '<b>불편한 편의점</b>' 22주만 최고순위\", 'link': 'http://www.chungnamilbo.co.kr/news/articleView.html?idxno=639605', 'description': \"<b>불편한 편의점(15만부 기념 윈터 에디션)</b>/김호연/나무옆의자/소설. (사진제공=교보문고) 교보문고가 23일 발표한 12월 셋째 주 베스트셀러 순위에 따르면, 연말에 들어서면서 김호연의 '<b>불편한 편의점</b>'의 기세가... \"}]}\n",
      "불편한 편의점(15만부 기념 윈터 에디션) 불편한 편의점(15만부 기념 윈터 에디션)\n"
     ]
    },
    {
     "name": "stderr",
     "output_type": "stream",
     "text": [
      "172.30.1.51 - - [31/Dec/2021 19:50:24] \"\u001b[37mGET /?title=불편한%20편의점(15만부%20기념%20윈터%20에디션)&author=불편한%20편의점(15만부%20기념%20윈터%20에디션) HTTP/1.1\u001b[0m\" 200 -\n"
     ]
    },
    {
     "name": "stdout",
     "output_type": "stream",
     "text": [
      "{'blog': [{'title': '[<b>불편한 편의점</b>]  ALWAYS', 'link': 'https://blog.naver.com/winmoon2?Redirect=Log&logNo=222604561229', 'description': '<b>불편한 편의점</b> 저자 김호연 출판 나무옆의자 발매 2021.04.20. 블편한 <b>편의점</b> 김호연 나무옆의자 내가 받은 책선물은 <b>15만부 기념 윈터 에디션</b> 인듯.. 눈모양의 결정이며, 겉 표지에 오로라가 보인다. ㅋㅋㅋ 한번... '}, {'title': '2021년 12월에 구입한 책 - 6 &lt;<b>불편한 편의점</b>&gt;', 'link': 'https://blog.naver.com/here-now-lee?Redirect=Log&logNo=222602919713', 'description': '#<b>불편한편의점</b> #김호연 #<b>15만부기념윈터에디션</b> #2021년올해의책 한동안, 아니 지금도 여전히 베스트셀러 리스트 안에 들어가 있는 책이다. &lt;달러구트 꿈 백화점&gt;을 읽으면서 이 책을 보고 싶다 생각은 했지만... '}, {'title': '[책 추천] <b>불편한 편의점</b>', 'link': 'https://blog.naver.com/chacari1480?Redirect=Log&logNo=222589188459', 'description': '힘겨운 시대를 살아가는 우리들에게 다가온 조금 특별한 <b>편의점</b> 이야기 &lt;<b>불편한 편의점</b>&gt; <b>15만부 기념</b> 한정판 <b>윈터 에디션</b> 출간! 2021년 4월에 출간되어 15만이 넘는 독자의 뜨거운 사랑을 받고 있는 소설 ! 청파동... '}], 'news': [{'title': \"[베스트셀러] 새해 맞이 '하루를 48시간으로 사는 마법' 순위 상승\", 'link': 'http://www.chungnamilbo.co.kr/news/articleView.html?idxno=640734', 'description': '<b>불편한 편의점(15만부 기념 윈터 에디션)</b>/김호연/나무옆의자/소설 2. 트렌드 코리아 2022/김난도/미래의창/경제/경영 3. 흔한남매. 9(양장본 HardCover)/흔한남매(원작)/미래엔아이세움/아동 4. 소크라테스 익스프레스... '}, {'title': '(주간베스트셀러)연말연시 새 디자인 커버가 뜬다', 'link': 'http://www.newstomato.com/ReadNews.aspx?no=1096791&inflow=N', 'description': '뉴스토마토 = 권익도 기자 | \\xa0연말연시를 <b>기념</b>해 책 커버를 새롭게 단장한 책들이 재차 순위가 상승하며 인기몰이를 하고 있다. 22~28일 인터파크도서 종합베스트셀러 집계에 따르면 ‘<b>불편한 편의점</b>’ <b>윈터 에디션</b>... '}, {'title': \"[베스트셀러] '<b>불편한 편의점</b>' 22주만 최고순위\", 'link': 'http://www.chungnamilbo.co.kr/news/articleView.html?idxno=639605', 'description': \"<b>불편한 편의점(15만부 기념 윈터 에디션)</b>/김호연/나무옆의자/소설. (사진제공=교보문고) 교보문고가 23일 발표한 12월 셋째 주 베스트셀러 순위에 따르면, 연말에 들어서면서 김호연의 '<b>불편한 편의점</b>'의 기세가... \"}]}\n",
      "미드나잇 라이브러리(25만부 기념 퍼플 에디션) 미드나잇 라이브러리(25만부 기념 퍼플 에디션)\n"
     ]
    },
    {
     "name": "stderr",
     "output_type": "stream",
     "text": [
      "172.30.1.51 - - [31/Dec/2021 19:50:32] \"\u001b[37mGET /?title=미드나잇%20라이브러리(25만부%20기념%20퍼플%20에디션)&author=미드나잇%20라이브러리(25만부%20기념%20퍼플%20에디션) HTTP/1.1\u001b[0m\" 200 -\n"
     ]
    },
    {
     "name": "stdout",
     "output_type": "stream",
     "text": [
      "{'blog': [{'title': '<b>미드나잇 라이브러리</b> <b>25만부</b> 판매<b>기념</b> 한정판 <b>퍼플 에디션</b>', 'link': 'https://blog.naver.com/ddawndew?Redirect=Log&logNo=222599573646', 'description': '<b>미드나잇 라이브러리</b> 책 <b>25만부</b> 판매<b>기념 퍼플 에디션</b>이 나왔으니 보내주겠다는 내용이었다. 와~ <b>25만부</b>나 판매되었다니... 정말 놀랍다. 한 마디로 출판사는 올해 이 책으로 대박을 친 셈이다. 사실... '}, {'title': '<b>미드나잇 라이브러리</b> - <b>25만 부 기념</b> 한정판 <b>퍼플에디션</b>', 'link': 'https://blog.naver.com/younga104?Redirect=Log&logNo=222599141019', 'description': \"올해 재미있게 읽었던 책 중 하나인 <b>미드나잇 라이브러리</b>!! <b>25만 부 기념</b> 한정판 <b>퍼플에디션</b>!!을 출간했다. ('한정판' 요런 건 또 못 참지!!) 거기다 보라색을 또 좋아하는 나로선 책이 너무 이뻤다.ㅎㅎㅎㅎ... \"}, {'title': '2021 베스트셀러 <b>미드나잇 라이브러리</b> <b>퍼플에디션</b>', 'link': 'https://blog.naver.com/wingssprout?Redirect=Log&logNo=222597017135', 'description': '저는 25만 명 중의 한 명이었군요.ㅎㅎㅎ <b>25만 부</b> 출간 <b>기념</b> 한정판으로 <b>미드나잇 라이브러리</b> <b>퍼플에디션</b>이 나왔어요. 한정판은 못 참죠~ <b>미드나잇 라이브러리</b> <b>퍼플에디션</b>은 각도에 따라 반짝반짝 빛이 나서... '}], 'news': [{'title': \"[베스트셀러] 새해 맞이 '하루를 48시간으로 사는 마법' 순위 상승\", 'link': 'http://www.chungnamilbo.co.kr/news/articleView.html?idxno=640734', 'description': '<b>미드나잇 라이브러리(25만부 기념 퍼플 에디션)</b>/매트 헤이그/인플루엔셜/소설 6. 거꾸로 읽는 세계사/유시민/돌베개/역사/문화 7. NFT 레볼루션/성소라/더퀘스트/경제/경영 8. 웰씽킹(Wealthinking)(양장본 HardCover)/켈리... '}, {'title': '이재명 대선 후보 다룬 『굿바이, 이재명』 1위 차지', 'link': 'http://ch.yes24.com/Article/View/46711', 'description': '금주 두 계단 상승한 2위에 오른 김호연 작가의 소설\\xa0『불편한 편의점』을 비롯해 삶과 죽음 사이 마주한 인생의 두 번째 기회를 그린 소설\\xa0『<b>미드나잇 라이브러리</b>』의 <b>25만 부 기념 퍼플 에디션</b>은 전주보다 한... '}, {'title': \"'굿바이, 이재명' 12월 5주 베스트셀러 1위\", 'link': 'http://www.slist.kr/news/articleView.html?idxno=322431', 'description': \"금주 두 계단 상승한\\xa02위에 오른 김호연 작가의 소설 '불편한 편의점'을 비롯해 삶과 죽음 사이 마주한 인생의 두 번째 기회를 그린 소설 '<b>미드나잇 라이브러리</b>'의\\xa0<b>25만 부 기념 퍼플 에디션</b>은 전주보다 한 계단 오른... \"}]}\n",
      "불편한 편의점(15만부 기념 윈터 에디션) 불편한 편의점(15만부 기념 윈터 에디션)\n"
     ]
    },
    {
     "name": "stderr",
     "output_type": "stream",
     "text": [
      "172.30.1.34 - - [31/Dec/2021 20:15:07] \"\u001b[37mGET /?title=불편한%20편의점(15만부%20기념%20윈터%20에디션)&author=불편한%20편의점(15만부%20기념%20윈터%20에디션) HTTP/1.1\u001b[0m\" 200 -\n"
     ]
    },
    {
     "name": "stdout",
     "output_type": "stream",
     "text": [
      "{'blog': [{'title': '[<b>불편한 편의점</b>]  ALWAYS', 'link': 'https://blog.naver.com/winmoon2?Redirect=Log&logNo=222604561229', 'description': '<b>불편한 편의점</b> 저자 김호연 출판 나무옆의자 발매 2021.04.20. 블편한 <b>편의점</b> 김호연 나무옆의자 내가 받은 책선물은 <b>15만부 기념 윈터 에디션</b> 인듯.. 눈모양의 결정이며, 겉 표지에 오로라가 보인다. ㅋㅋㅋ 한번... '}, {'title': '2021년 12월에 구입한 책 - 6 &lt;<b>불편한 편의점</b>&gt;', 'link': 'https://blog.naver.com/here-now-lee?Redirect=Log&logNo=222602919713', 'description': '#<b>불편한편의점</b> #김호연 #<b>15만부기념윈터에디션</b> #2021년올해의책 한동안, 아니 지금도 여전히 베스트셀러 리스트 안에 들어가 있는 책이다. &lt;달러구트 꿈 백화점&gt;을 읽으면서 이 책을 보고 싶다 생각은 했지만... '}, {'title': '[책 추천] <b>불편한 편의점</b>', 'link': 'https://blog.naver.com/chacari1480?Redirect=Log&logNo=222589188459', 'description': '힘겨운 시대를 살아가는 우리들에게 다가온 조금 특별한 <b>편의점</b> 이야기 &lt;<b>불편한 편의점</b>&gt; <b>15만부 기념</b> 한정판 <b>윈터 에디션</b> 출간! 2021년 4월에 출간되어 15만이 넘는 독자의 뜨거운 사랑을 받고 있는 소설 ! 청파동... '}], 'news': [{'title': \"[베스트셀러] 새해 맞이 '하루를 48시간으로 사는 마법' 순위 상승\", 'link': 'http://www.chungnamilbo.co.kr/news/articleView.html?idxno=640734', 'description': '<b>불편한 편의점(15만부 기념 윈터 에디션)</b>/김호연/나무옆의자/소설 2. 트렌드 코리아 2022/김난도/미래의창/경제/경영 3. 흔한남매. 9(양장본 HardCover)/흔한남매(원작)/미래엔아이세움/아동 4. 소크라테스 익스프레스... '}, {'title': '(주간베스트셀러)연말연시 새 디자인 커버가 뜬다', 'link': 'http://www.newstomato.com/ReadNews.aspx?no=1096791&inflow=N', 'description': '뉴스토마토 = 권익도 기자 | \\xa0연말연시를 <b>기념</b>해 책 커버를 새롭게 단장한 책들이 재차 순위가 상승하며 인기몰이를 하고 있다. 22~28일 인터파크도서 종합베스트셀러 집계에 따르면 ‘<b>불편한 편의점</b>’ <b>윈터 에디션</b>... '}, {'title': \"[베스트셀러] '<b>불편한 편의점</b>' 22주만 최고순위\", 'link': 'http://www.chungnamilbo.co.kr/news/articleView.html?idxno=639605', 'description': \"<b>불편한 편의점(15만부 기념 윈터 에디션)</b>/김호연/나무옆의자/소설. (사진제공=교보문고) 교보문고가 23일 발표한 12월 셋째 주 베스트셀러 순위에 따르면, 연말에 들어서면서 김호연의 '<b>불편한 편의점</b>'의 기세가... \"}]}\n",
      "불편한 편의점(15만부 기념 윈터 에디션) 불편한 편의점(15만부 기념 윈터 에디션)\n",
      "{'blog': [{'title': '[<b>불편한 편의점</b>]  ALWAYS', 'link': 'https://blog.naver.com/winmoon2?Redirect=Log&logNo=222604561229', 'description': '<b>불편한 편의점</b> 저자 김호연 출판 나무옆의자 발매 2021.04.20. 블편한 <b>편의점</b> 김호연 나무옆의자 내가 받은 책선물은 <b>15만부 기념 윈터 에디션</b> 인듯.. 눈모양의 결정이며, 겉 표지에 오로라가 보인다. ㅋㅋㅋ 한번... '}, {'title': '2021년 12월에 구입한 책 - 6 &lt;<b>불편한 편의점</b>&gt;', 'link': 'https://blog.naver.com/here-now-lee?Redirect=Log&logNo=222602919713', 'description': '#<b>불편한편의점</b> #김호연 #<b>15만부기념윈터에디션</b> #2021년올해의책 한동안, 아니 지금도 여전히 베스트셀러 리스트 안에 들어가 있는 책이다. &lt;달러구트 꿈 백화점&gt;을 읽으면서 이 책을 보고 싶다 생각은 했지만... '}, {'title': '[책 추천] <b>불편한 편의점</b>', 'link': 'https://blog.naver.com/chacari1480?Redirect=Log&logNo=222589188459', 'description': '힘겨운 시대를 살아가는 우리들에게 다가온 조금 특별한 <b>편의점</b> 이야기 &lt;<b>불편한 편의점</b>&gt; <b>15만부 기념</b> 한정판 <b>윈터 에디션</b> 출간! 2021년 4월에 출간되어 15만이 넘는 독자의 뜨거운 사랑을 받고 있는 소설 ! 청파동... '}], 'news': [{'title': \"[베스트셀러] 새해 맞이 '하루를 48시간으로 사는 마법' 순위 상승\", 'link': 'http://www.chungnamilbo.co.kr/news/articleView.html?idxno=640734', 'description': '<b>불편한 편의점(15만부 기념 윈터 에디션)</b>/김호연/나무옆의자/소설 2. 트렌드 코리아 2022/김난도/미래의창/경제/경영 3. 흔한남매. 9(양장본 HardCover)/흔한남매(원작)/미래엔아이세움/아동 4. 소크라테스 익스프레스... '}, {'title': '(주간베스트셀러)연말연시 새 디자인 커버가 뜬다', 'link': 'http://www.newstomato.com/ReadNews.aspx?no=1096791&inflow=N', 'description': '뉴스토마토 = 권익도 기자 | \\xa0연말연시를 <b>기념</b>해 책 커버를 새롭게 단장한 책들이 재차 순위가 상승하며 인기몰이를 하고 있다. 22~28일 인터파크도서 종합베스트셀러 집계에 따르면 ‘<b>불편한 편의점</b>’ <b>윈터 에디션</b>... '}, {'title': \"[베스트셀러] '<b>불편한 편의점</b>' 22주만 최고순위\", 'link': 'http://www.chungnamilbo.co.kr/news/articleView.html?idxno=639605', 'description': \"<b>불편한 편의점(15만부 기념 윈터 에디션)</b>/김호연/나무옆의자/소설. (사진제공=교보문고) 교보문고가 23일 발표한 12월 셋째 주 베스트셀러 순위에 따르면, 연말에 들어서면서 김호연의 '<b>불편한 편의점</b>'의 기세가... \"}]}\n"
     ]
    },
    {
     "name": "stderr",
     "output_type": "stream",
     "text": [
      "172.30.1.34 - - [31/Dec/2021 20:15:25] \"\u001b[37mGET /?title=불편한%20편의점(15만부%20기념%20윈터%20에디션)&author=불편한%20편의점(15만부%20기념%20윈터%20에디션) HTTP/1.1\u001b[0m\" 200 -\n"
     ]
    },
    {
     "name": "stdout",
     "output_type": "stream",
     "text": [
      "달러구트 꿈 백화점 달러구트 꿈 백화점\n",
      "{'blog': [{'title': '&lt;북리뷰&gt; <b>달러구트 꿈 백화점</b> _ 이미예 작가', 'link': 'https://blog.naver.com/7yeb?Redirect=Log&logNo=222602651622', 'description': \"그래서 선택한 소설책, '<b>달러구트 꿈 백화점</b>'이다. '<b>달러구트</b>의 <b>꿈 백화점</b>'은 특이하게 크라우드 펀딩으로 독자들의 열렬한 지지 속에 출판된 책이다. &quot;어제와 오늘 사이의 신비로운 틈새를, 기분 좋은 상상으로... \"}, {'title': '<b>달러구트 꿈백화점</b> 2 - 이미예', 'link': 'https://blog.naver.com/bodol911?Redirect=Log&logNo=222579857001', 'description': '「<b>달러구트 꿈 백화점</b> 2」 먼저 읽었던 <b>달러구트 꿈 백화점</b>은 오랫만에 책읽기를 시작하면서 어떤 책을 읽을까 궁리하다 추천 도서 1위로 검색 된 책이길래 구매했던 책이다. 추천도서 1위라는 것은 그래도 다른... '}, {'title': '<b>달러구트 꿈 백화점</b>_이미예', 'link': 'https://blog.naver.com/seh026?Redirect=Log&logNo=222602606974', 'description': '확신의 2021년 베스트셀러 소설책이 아닐까 싶은 &lt;<b>달러구트 꿈 백화점</b>&gt;을 운좋게 읽게 됐다. 사서 읽고 싶지는 않았는데 결과적으로도 안 사길 잘했다고 생각했다. 소설을 읽는 이유는 사람마다 다르겠지만, 나는... '}], 'news': [{'title': '12월 마지막 주 베스트셀러 순위 (교보문고)', 'link': 'https://news.naver.com/main/read.naver?mode=LSD&mid=sec&sid1=103&oid=088&aid=0000738519', 'description': '거꾸로 읽는 세계사(유시민·돌베개) 7. NFT 레볼루션(성소라·더퀘스트) 8. 웰씽킹(켈리 최·다산북스) 9. <b>달러구트 꿈 백화점</b>(이미예·팩토리나인) 10. <b>달러구트 꿈 백화점</b> 합본호(이미예·팩토리나인)'}, {'title': \"[베스트셀러] 소설 '불편한 편의점' 출간 8개월만에 1위\", 'link': 'https://news.naver.com/main/read.naver?mode=LSD&mid=sec&sid1=103&oid=001&aid=0012889400', 'description': '거꾸로 읽는 세계사(유시민·돌베개) 7. NFT 레볼루션(성소라·더퀘스트) 8. 웰씽킹(켈리 최·다산북스) 9. <b>달러구트 꿈 백화점</b>(이미예·팩토리나인) 10. <b>달러구트 꿈 백화점</b> 합본호(이미예·팩토리나인)'}, {'title': \"[베스트셀러]김호연 '불편한 편의점' 1위 차지\", 'link': 'https://news.naver.com/main/read.naver?mode=LSD&mid=sec&sid1=103&oid=003&aid=0010919168', 'description': \"올해 '<b>달러구트 꿈 백화점</b>'이 종합 1위로 시작해 마무리는 '불편한 편의점'이 맺은 셈이다. 경제경영 분야에 대한 관심이 뜨거웠지만 한국 소설과 따듯한 감성의 판타지 소설이 인기를 주도했다. 올해 주간... \"}]}\n"
     ]
    },
    {
     "name": "stderr",
     "output_type": "stream",
     "text": [
      "172.30.1.1 - - [31/Dec/2021 20:15:27] \"\u001b[37mGET /?title=달러구트%20꿈%20백화점&author=달러구트%20꿈%20백화점 HTTP/1.1\u001b[0m\" 200 -\n"
     ]
    },
    {
     "name": "stdout",
     "output_type": "stream",
     "text": [
      "불편한 편의점(15만부 기념 윈터 에디션) 불편한 편의점(15만부 기념 윈터 에디션)\n",
      "{'blog': [{'title': '[<b>불편한 편의점</b>]  ALWAYS', 'link': 'https://blog.naver.com/winmoon2?Redirect=Log&logNo=222604561229', 'description': '<b>불편한 편의점</b> 저자 김호연 출판 나무옆의자 발매 2021.04.20. 블편한 <b>편의점</b> 김호연 나무옆의자 내가 받은 책선물은 <b>15만부 기념 윈터 에디션</b> 인듯.. 눈모양의 결정이며, 겉 표지에 오로라가 보인다. ㅋㅋㅋ 한번... '}, {'title': '2021년 12월에 구입한 책 - 6 &lt;<b>불편한 편의점</b>&gt;', 'link': 'https://blog.naver.com/here-now-lee?Redirect=Log&logNo=222602919713', 'description': '#<b>불편한편의점</b> #김호연 #<b>15만부기념윈터에디션</b> #2021년올해의책 한동안, 아니 지금도 여전히 베스트셀러 리스트 안에 들어가 있는 책이다. &lt;달러구트 꿈 백화점&gt;을 읽으면서 이 책을 보고 싶다 생각은 했지만... '}, {'title': '[책 추천] <b>불편한 편의점</b>', 'link': 'https://blog.naver.com/chacari1480?Redirect=Log&logNo=222589188459', 'description': '힘겨운 시대를 살아가는 우리들에게 다가온 조금 특별한 <b>편의점</b> 이야기 &lt;<b>불편한 편의점</b>&gt; <b>15만부 기념</b> 한정판 <b>윈터 에디션</b> 출간! 2021년 4월에 출간되어 15만이 넘는 독자의 뜨거운 사랑을 받고 있는 소설 ! 청파동... '}], 'news': [{'title': \"[베스트셀러] 새해 맞이 '하루를 48시간으로 사는 마법' 순위 상승\", 'link': 'http://www.chungnamilbo.co.kr/news/articleView.html?idxno=640734', 'description': '<b>불편한 편의점(15만부 기념 윈터 에디션)</b>/김호연/나무옆의자/소설 2. 트렌드 코리아 2022/김난도/미래의창/경제/경영 3. 흔한남매. 9(양장본 HardCover)/흔한남매(원작)/미래엔아이세움/아동 4. 소크라테스 익스프레스... '}, {'title': '(주간베스트셀러)연말연시 새 디자인 커버가 뜬다', 'link': 'http://www.newstomato.com/ReadNews.aspx?no=1096791&inflow=N', 'description': '뉴스토마토 = 권익도 기자 | \\xa0연말연시를 <b>기념</b>해 책 커버를 새롭게 단장한 책들이 재차 순위가 상승하며 인기몰이를 하고 있다. 22~28일 인터파크도서 종합베스트셀러 집계에 따르면 ‘<b>불편한 편의점</b>’ <b>윈터 에디션</b>... '}, {'title': \"[베스트셀러] '<b>불편한 편의점</b>' 22주만 최고순위\", 'link': 'http://www.chungnamilbo.co.kr/news/articleView.html?idxno=639605', 'description': \"<b>불편한 편의점(15만부 기념 윈터 에디션)</b>/김호연/나무옆의자/소설. (사진제공=교보문고) 교보문고가 23일 발표한 12월 셋째 주 베스트셀러 순위에 따르면, 연말에 들어서면서 김호연의 '<b>불편한 편의점</b>'의 기세가... \"}]}\n"
     ]
    },
    {
     "name": "stderr",
     "output_type": "stream",
     "text": [
      "172.30.1.1 - - [31/Dec/2021 20:15:30] \"\u001b[37mGET /?title=불편한%20편의점(15만부%20기념%20윈터%20에디션)&author=불편한%20편의점(15만부%20기념%20윈터%20에디션) HTTP/1.1\u001b[0m\" 200 -\n"
     ]
    },
    {
     "name": "stdout",
     "output_type": "stream",
     "text": [
      "불편한 편의점(15만부 기념 윈터 에디션) 불편한 편의점(15만부 기념 윈터 에디션)\n"
     ]
    },
    {
     "name": "stderr",
     "output_type": "stream",
     "text": [
      "172.30.1.1 - - [31/Dec/2021 20:17:19] \"\u001b[37mGET /?title=불편한%20편의점(15만부%20기념%20윈터%20에디션)&author=불편한%20편의점(15만부%20기념%20윈터%20에디션) HTTP/1.1\u001b[0m\" 200 -\n"
     ]
    },
    {
     "name": "stdout",
     "output_type": "stream",
     "text": [
      "{'blog': [{'title': '[<b>불편한 편의점</b>]  ALWAYS', 'link': 'https://blog.naver.com/winmoon2?Redirect=Log&logNo=222604561229', 'description': '<b>불편한 편의점</b> 저자 김호연 출판 나무옆의자 발매 2021.04.20. 블편한 <b>편의점</b> 김호연 나무옆의자 내가 받은 책선물은 <b>15만부 기념 윈터 에디션</b> 인듯.. 눈모양의 결정이며, 겉 표지에 오로라가 보인다. ㅋㅋㅋ 한번... '}, {'title': '2021년 12월에 구입한 책 - 6 &lt;<b>불편한 편의점</b>&gt;', 'link': 'https://blog.naver.com/here-now-lee?Redirect=Log&logNo=222602919713', 'description': '#<b>불편한편의점</b> #김호연 #<b>15만부기념윈터에디션</b> #2021년올해의책 한동안, 아니 지금도 여전히 베스트셀러 리스트 안에 들어가 있는 책이다. &lt;달러구트 꿈 백화점&gt;을 읽으면서 이 책을 보고 싶다 생각은 했지만... '}, {'title': '[책 추천] <b>불편한 편의점</b>', 'link': 'https://blog.naver.com/chacari1480?Redirect=Log&logNo=222589188459', 'description': '힘겨운 시대를 살아가는 우리들에게 다가온 조금 특별한 <b>편의점</b> 이야기 &lt;<b>불편한 편의점</b>&gt; <b>15만부 기념</b> 한정판 <b>윈터 에디션</b> 출간! 2021년 4월에 출간되어 15만이 넘는 독자의 뜨거운 사랑을 받고 있는 소설 ! 청파동... '}], 'news': [{'title': \"[베스트셀러] 새해 맞이 '하루를 48시간으로 사는 마법' 순위 상승\", 'link': 'http://www.chungnamilbo.co.kr/news/articleView.html?idxno=640734', 'description': '<b>불편한 편의점(15만부 기념 윈터 에디션)</b>/김호연/나무옆의자/소설 2. 트렌드 코리아 2022/김난도/미래의창/경제/경영 3. 흔한남매. 9(양장본 HardCover)/흔한남매(원작)/미래엔아이세움/아동 4. 소크라테스 익스프레스... '}, {'title': '(주간베스트셀러)연말연시 새 디자인 커버가 뜬다', 'link': 'http://www.newstomato.com/ReadNews.aspx?no=1096791&inflow=N', 'description': '뉴스토마토 = 권익도 기자 | \\xa0연말연시를 <b>기념</b>해 책 커버를 새롭게 단장한 책들이 재차 순위가 상승하며 인기몰이를 하고 있다. 22~28일 인터파크도서 종합베스트셀러 집계에 따르면 ‘<b>불편한 편의점</b>’ <b>윈터 에디션</b>... '}, {'title': \"[베스트셀러] '<b>불편한 편의점</b>' 22주만 최고순위\", 'link': 'http://www.chungnamilbo.co.kr/news/articleView.html?idxno=639605', 'description': \"<b>불편한 편의점(15만부 기념 윈터 에디션)</b>/김호연/나무옆의자/소설. (사진제공=교보문고) 교보문고가 23일 발표한 12월 셋째 주 베스트셀러 순위에 따르면, 연말에 들어서면서 김호연의 '<b>불편한 편의점</b>'의 기세가... \"}]}\n"
     ]
    }
   ],
   "source": [
    "app = Flask(__name__) # flask 서버객체 생성\n",
    "\n",
    "CORS(app, resources={r'*': {'origins': '*'}})\n",
    "# CORS(app, resources={r'*': {'origins': 'https://webisfree.com'}})\n",
    "# CORS(app, resources={r'/_api/*': {'origins': 'https://webisfree.com:5000'}})\n",
    "\n",
    "def crawling(title, author):\n",
    "    result = ''\n",
    "    ## <!-- 검색어 -->\n",
    "    data1 = urllib.parse.quote(title) \n",
    "    data2 = urllib.parse.quote(author)\n",
    "    \n",
    "    booktitle_search = urllib.parse.quote(data1) ## 책 제목 검색어\n",
    "    author_search = urllib.parse.quote(data2) ## 책 저자 검색어\n",
    "\n",
    "    ## <!-- 블로그 start -->\n",
    "    ## url1 == 블로그\n",
    "    url1 = \"https://openapi.naver.com/v1/search/blog?query=\" + data1 + \"+\" + data2 + \"&display=3\" # json 결과\n",
    "    request = urllib.request.Request(url1)\n",
    "    request.add_header(\"X-Naver-Client-Id\",client_id)\n",
    "    request.add_header(\"X-Naver-Client-Secret\",client_secret)\n",
    "    response = urllib.request.urlopen(request)\n",
    "    rescode = response.getcode()\n",
    "    \n",
    "    if(rescode==200):\n",
    "        response_body = response.read()\n",
    "        #print(response_body.decode('utf-8')) ## 인코딩\n",
    "        text = response_body.decode('utf-8') ## 인코딩\n",
    "        dict = json.loads(text.strip()) ## text 변환\n",
    "        blog_search = [] ## 블로그 검색\n",
    "        blog_t = dict['items']\n",
    "        for i in blog_t:\n",
    "            blog_search.append({'title': i['title'], 'link': i['link'], 'description': i['description']})\n",
    "        blog_result = blog_search\n",
    "    else:\n",
    "        result += \"Error Code:\"\n",
    "        blog_result += rescode\n",
    "\n",
    "    ## <!-- 블로그 end -->\n",
    "\n",
    "    ## <!-- 뉴스 start -->\n",
    "    ## url2 == 뉴스 \n",
    "    url2 = \"https://openapi.naver.com/v1/search/news?query=\" + data1 + \"+\" + data2 + \"&display=3\" # json 결과\n",
    "    request = urllib.request.Request(url2)\n",
    "    request.add_header(\"X-Naver-Client-Id\",client_id)\n",
    "    request.add_header(\"X-Naver-Client-Secret\",client_secret)\n",
    "    response = urllib.request.urlopen(request)\n",
    "    rescode = response.getcode()\n",
    "\n",
    "    if(rescode==200):\n",
    "        response_body = response.read()\n",
    "        #print(response_body.decode('utf-8'))\n",
    "        text1 =response_body.decode('utf-8')\n",
    "        dict = json.loads(text1.strip()) ## text 변환\n",
    "        news_search = [] ## 뉴스 검색\n",
    "        news_t = dict['items']\n",
    "        for i in news_t:\n",
    "            news_search.append({'title': i['title'], 'link': i['link'], 'description': i['description']})\n",
    "        news_result = news_search\n",
    "    else:\n",
    "        result += \"Error Code:\"\n",
    "        news_result += rescode\n",
    "        \n",
    "    return {'blog':blog_result, 'news':news_result}\n",
    "    ## <!-- 뉴스 end -->\n",
    "    \n",
    "@app.route('/', methods=['GET','POST']) # route(경로): 외부에서 접근할 때 페이지 구분을 위한 경로지정\n",
    "def index():\n",
    "    title = request.args['title']\n",
    "    author = request.args['author']\n",
    "#     cover = request.args['cover']\n",
    "#     title = '불편한 편의점'\n",
    "#     author = '김호연'\n",
    "\n",
    "    print(title, author)\n",
    "    print(crawling(title, author))\n",
    "#     url = 'http://172.30.1.51:8006/BoRamJul/bookinfo.jsp?'\n",
    "#     url += 'title='\n",
    "#     url += title\n",
    "#     url += '&author='\n",
    "#     url += author\n",
    "#     url += '&cover='\n",
    "#     url += cover\n",
    "#     url += '&test='\n",
    "#     url += 'asdasd'   \n",
    "    \n",
    "    return json.dumps(crawling(title, author))\n",
    "    \n",
    "if __name__ == '__main__':\n",
    "    # 웹서버주소(host)와 포트번호(port)를 지정하여 웹 서버 실행\n",
    "    app.run(host='172.30.1.51', port=5021) ## [???] 주소 확인 필요    "
   ]
  },
  {
   "cell_type": "code",
   "execution_count": null,
   "id": "069482af",
   "metadata": {},
   "outputs": [],
   "source": [
    "print(news_result)"
   ]
  },
  {
   "cell_type": "code",
   "execution_count": 16,
   "id": "9a7fa307",
   "metadata": {},
   "outputs": [
    {
     "data": {
      "text/plain": [
       "{'blog': [{'title': '[<b>불편한 편의점</b>]  ALWAYS',\n",
       "   'link': 'https://blog.naver.com/winmoon2?Redirect=Log&logNo=222604561229'},\n",
       "  {'title': '<b>불편한 편의점</b> - <b>김호연</b> / 나무 옆 의자',\n",
       "   'link': 'https://blog.naver.com/tapotis?Redirect=Log&logNo=222593946002'},\n",
       "  {'title': '<b>김호연</b>.',\n",
       "   'link': 'https://blog.naver.com/afx1979?Redirect=Log&logNo=222583650468'}],\n",
       " 'news': [{'title': \"[베스트셀러] 새해 맞이 '하루를 48시간으로 사는 마법' 순위 상승\",\n",
       "   'link': 'http://www.chungnamilbo.co.kr/news/articleView.html?idxno=640734'},\n",
       "  {'title': \"[베스트셀러] '<b>불편한 편의점</b>' 22주만 최고순위\",\n",
       "   'link': 'http://www.chungnamilbo.co.kr/news/articleView.html?idxno=639605'},\n",
       "  {'title': \"[베스트셀러] '흔한남매' 어린이 마음 사로잡으며 종합 2위\",\n",
       "   'link': 'http://www.chungnamilbo.co.kr/news/articleView.html?idxno=638433'}]}"
      ]
     },
     "execution_count": 16,
     "metadata": {},
     "output_type": "execute_result"
    }
   ],
   "source": [
    "blog_list = crawling('불편한 편의점(15만부 기념 윈터 에디션)', '김호연')\n",
    "\n",
    "blog_list"
   ]
  },
  {
   "cell_type": "code",
   "execution_count": 12,
   "id": "a3dd5de3",
   "metadata": {},
   "outputs": [
    {
     "data": {
      "text/plain": [
       "'{\"blog\": [{\"title\": \"[<b>\\\\ubd88\\\\ud3b8\\\\ud55c \\\\ud3b8\\\\uc758\\\\uc810</b>]  ALWAYS\", \"link\": \"https://blog.naver.com/winmoon2?Redirect=Log&logNo=222604561229\"}, {\"title\": \"<b>\\\\ubd88\\\\ud3b8\\\\ud55c \\\\ud3b8\\\\uc758\\\\uc810</b> - <b>\\\\uae40\\\\ud638\\\\uc5f0</b> / \\\\ub098\\\\ubb34 \\\\uc606 \\\\uc758\\\\uc790\", \"link\": \"https://blog.naver.com/tapotis?Redirect=Log&logNo=222593946002\"}, {\"title\": \"<b>\\\\uae40\\\\ud638\\\\uc5f0</b>.\", \"link\": \"https://blog.naver.com/afx1979?Redirect=Log&logNo=222583650468\"}], \"news\": [{\"title\": \"[\\\\ubca0\\\\uc2a4\\\\ud2b8\\\\uc140\\\\ub7ec] \\\\uc0c8\\\\ud574 \\\\ub9de\\\\uc774 \\'\\\\ud558\\\\ub8e8\\\\ub97c 48\\\\uc2dc\\\\uac04\\\\uc73c\\\\ub85c \\\\uc0ac\\\\ub294 \\\\ub9c8\\\\ubc95\\' \\\\uc21c\\\\uc704 \\\\uc0c1\\\\uc2b9\", \"link\": \"http://www.chungnamilbo.co.kr/news/articleView.html?idxno=640734\"}, {\"title\": \"[\\\\ubca0\\\\uc2a4\\\\ud2b8\\\\uc140\\\\ub7ec] \\'<b>\\\\ubd88\\\\ud3b8\\\\ud55c \\\\ud3b8\\\\uc758\\\\uc810</b>\\' 22\\\\uc8fc\\\\ub9cc \\\\ucd5c\\\\uace0\\\\uc21c\\\\uc704\", \"link\": \"http://www.chungnamilbo.co.kr/news/articleView.html?idxno=639605\"}, {\"title\": \"[\\\\ubca0\\\\uc2a4\\\\ud2b8\\\\uc140\\\\ub7ec] \\'\\\\ud754\\\\ud55c\\\\ub0a8\\\\ub9e4\\' \\\\uc5b4\\\\ub9b0\\\\uc774 \\\\ub9c8\\\\uc74c \\\\uc0ac\\\\ub85c\\\\uc7a1\\\\uc73c\\\\uba70 \\\\uc885\\\\ud569 2\\\\uc704\", \"link\": \"http://www.chungnamilbo.co.kr/news/articleView.html?idxno=638433\"}]}'"
      ]
     },
     "execution_count": 12,
     "metadata": {},
     "output_type": "execute_result"
    }
   ],
   "source": [
    "blog_list = crawling('불편한 편의점(15만부 기념 윈터 에디션)', '김호연')\n",
    "\n",
    "# blog_info = [\n",
    "#     {'title': blog_list['items'][0]['title'], 'link': blog_list['items'][0]['link']},\n",
    "#     {'title': blog_list['items'][1]['title'], 'link': blog_list['items'][1]['link']},\n",
    "#     {'title': blog_list['items'][2]['title'], 'link': blog_list['items'][2]['link']},\n",
    "# ]\n",
    "\n",
    "json.dumps(blog_list)"
   ]
  }
 ],
 "metadata": {
  "kernelspec": {
   "display_name": "Python 3",
   "language": "python",
   "name": "python3"
  },
  "language_info": {
   "codemirror_mode": {
    "name": "ipython",
    "version": 3
   },
   "file_extension": ".py",
   "mimetype": "text/x-python",
   "name": "python",
   "nbconvert_exporter": "python",
   "pygments_lexer": "ipython3",
   "version": "3.8.8"
  }
 },
 "nbformat": 4,
 "nbformat_minor": 5
}
